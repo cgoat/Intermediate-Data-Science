{
 "cells": [
  {
   "cell_type": "markdown",
   "metadata": {},
   "source": [
    "### This datset indicates the water consumption in the Austin Area. \n",
    "The dataset can be found at\n",
    "https://data.austintexas.gov/Utilities-and-City-Services/Austin-Water-Residential-Water-Consumption/sxk7-7k6z \n",
    "The following Hypothesis needs to be validated <br>\n",
    "1) Water consumption is High during summer months (June - Aug/Sep)<br>\n",
    "\n",
    "The following insights need to be derived.<br>\n",
    "1) How does consumption by Customer class vary<br>\n",
    "2) How does consumption by Zip code vary. Can we obtain population by zip code and notice any correlation?<br>\n"
   ]
  },
  {
   "cell_type": "code",
   "execution_count": 40,
   "metadata": {
    "collapsed": false
   },
   "outputs": [
    {
     "ename": "ImportError",
     "evalue": "No module named calender",
     "output_type": "error",
     "traceback": [
      "\u001b[1;31m---------------------------------------------------------------------------\u001b[0m",
      "\u001b[1;31mImportError\u001b[0m                               Traceback (most recent call last)",
      "\u001b[1;32m<ipython-input-40-76e19a1ede53>\u001b[0m in \u001b[0;36m<module>\u001b[1;34m()\u001b[0m\n\u001b[0;32m      2\u001b[0m \u001b[1;32mimport\u001b[0m \u001b[0mnumpy\u001b[0m \u001b[1;32mas\u001b[0m \u001b[0mnp\u001b[0m\u001b[1;33m\u001b[0m\u001b[0m\n\u001b[0;32m      3\u001b[0m \u001b[1;32mimport\u001b[0m \u001b[0mmatplotlib\u001b[0m\u001b[1;33m.\u001b[0m\u001b[0mpyplot\u001b[0m \u001b[1;32mas\u001b[0m \u001b[0mplt\u001b[0m\u001b[1;33m\u001b[0m\u001b[0m\n\u001b[1;32m----> 4\u001b[1;33m \u001b[1;32mimport\u001b[0m \u001b[0mcalender\u001b[0m\u001b[1;33m\u001b[0m\u001b[0m\n\u001b[0m\u001b[0;32m      5\u001b[0m \u001b[1;32mfrom\u001b[0m \u001b[0mdatetime\u001b[0m \u001b[1;32mimport\u001b[0m \u001b[0mdatetime\u001b[0m\u001b[1;33m\u001b[0m\u001b[0m\n\u001b[0;32m      6\u001b[0m \u001b[1;32mfrom\u001b[0m \u001b[0mtime\u001b[0m \u001b[1;32mimport\u001b[0m \u001b[0mstrptime\u001b[0m\u001b[1;33m\u001b[0m\u001b[0m\n",
      "\u001b[1;31mImportError\u001b[0m: No module named calender"
     ]
    }
   ],
   "source": [
    "import pandas as pd\n",
    "import numpy as np\n",
    "import matplotlib.pyplot as plt\n",
    "from datetime import datetime\n",
    "from time import strptime"
   ]
  },
  {
   "cell_type": "code",
   "execution_count": 2,
   "metadata": {
    "collapsed": false
   },
   "outputs": [
    {
     "data": {
      "text/html": [
       "<div>\n",
       "<table border=\"1\" class=\"dataframe\">\n",
       "  <thead>\n",
       "    <tr style=\"text-align: right;\">\n",
       "      <th></th>\n",
       "      <th>Year Month</th>\n",
       "      <th>Postal Code</th>\n",
       "      <th>Customer Class</th>\n",
       "      <th>Total Gallons</th>\n",
       "    </tr>\n",
       "  </thead>\n",
       "  <tbody>\n",
       "    <tr>\n",
       "      <th>0</th>\n",
       "      <td>201201</td>\n",
       "      <td>78613</td>\n",
       "      <td>Multi-Family</td>\n",
       "      <td>23000</td>\n",
       "    </tr>\n",
       "    <tr>\n",
       "      <th>1</th>\n",
       "      <td>201201</td>\n",
       "      <td>78613</td>\n",
       "      <td>Irrigation - Multi-Family</td>\n",
       "      <td>11000</td>\n",
       "    </tr>\n",
       "    <tr>\n",
       "      <th>2</th>\n",
       "      <td>201201</td>\n",
       "      <td>78617</td>\n",
       "      <td>Multi-Family</td>\n",
       "      <td>2477000</td>\n",
       "    </tr>\n",
       "    <tr>\n",
       "      <th>3</th>\n",
       "      <td>201201</td>\n",
       "      <td>78617</td>\n",
       "      <td>Residential</td>\n",
       "      <td>19962500</td>\n",
       "    </tr>\n",
       "    <tr>\n",
       "      <th>4</th>\n",
       "      <td>201201</td>\n",
       "      <td>78652</td>\n",
       "      <td>Irrigation - Residential</td>\n",
       "      <td>38500</td>\n",
       "    </tr>\n",
       "  </tbody>\n",
       "</table>\n",
       "</div>"
      ],
      "text/plain": [
       "   Year Month  Postal Code             Customer Class  Total Gallons\n",
       "0      201201        78613               Multi-Family          23000\n",
       "1      201201        78613  Irrigation - Multi-Family          11000\n",
       "2      201201        78617               Multi-Family        2477000\n",
       "3      201201        78617                Residential       19962500\n",
       "4      201201        78652   Irrigation - Residential          38500"
      ]
     },
     "execution_count": 2,
     "metadata": {},
     "output_type": "execute_result"
    }
   ],
   "source": [
    "data=pd.read_csv(\"Austin_Water_-_Residential_Water_Consumption.csv\")\n",
    "data.head()"
   ]
  },
  {
   "cell_type": "code",
   "execution_count": 3,
   "metadata": {
    "collapsed": false
   },
   "outputs": [
    {
     "name": "stdout",
     "output_type": "stream",
     "text": [
      "Number of Rows 11132\n",
      "\n",
      "Number of Columns 4\n",
      "\n",
      "List of Columns names Index([u'Year Month', u'Postal Code', u'Customer Class', u'Total Gallons'], dtype='object')\n",
      "\n",
      "<class 'pandas.core.frame.DataFrame'>\n",
      "Int64Index: 11132 entries, 0 to 11131\n",
      "Data columns (total 4 columns):\n",
      "Year Month        11132 non-null int64\n",
      "Postal Code       11132 non-null int64\n",
      "Customer Class    11132 non-null object\n",
      "Total Gallons     11132 non-null int64\n",
      "dtypes: int64(3), object(1)\n",
      "memory usage: 391.4+ KB\n",
      "Information None\n",
      "\n",
      "Description           Year Month   Postal Code  Total Gallons\n",
      "count   11132.000000  11132.000000   1.113200e+04\n",
      "mean   201452.913403  78726.312343   1.245802e+07\n",
      "std       170.045011     31.575193   1.917752e+07\n",
      "min    201201.000000  78613.000000   0.000000e+00\n",
      "25%    201306.000000  78721.000000   1.576000e+05\n",
      "50%    201412.000000  78731.000000   2.790200e+06\n",
      "75%    201605.000000  78748.000000   1.726955e+07\n",
      "max    204406.000000  78759.000000   1.255698e+08\n",
      "\n"
     ]
    }
   ],
   "source": [
    "# Check the shape, column names, info and summary\n",
    "print(\"Number of Rows %d\\n\" % data.shape[0])\n",
    "print(\"Number of Columns %d\\n\" % data.shape[1])\n",
    "print(\"List of Columns names %s\\n\" % data.columns)\n",
    "print(\"Information %s\\n\" % data.info())\n",
    "print(\"Description %s\\n\" % data.describe())"
   ]
  },
  {
   "cell_type": "code",
   "execution_count": 4,
   "metadata": {
    "collapsed": false
   },
   "outputs": [],
   "source": [
    "#Convert the 'Year Month' column to date type and make it the index.\n",
    "data.index=pd.to_datetime(data['Year Month'].apply(lambda x: datetime.strptime(str(x),\"%Y%m\").date()))\n",
    "#Delete the columns 'Year Month'\n",
    "del data['Year Month']"
   ]
  },
  {
   "cell_type": "code",
   "execution_count": 5,
   "metadata": {
    "collapsed": false
   },
   "outputs": [
    {
     "name": "stdout",
     "output_type": "stream",
     "text": [
      "<class 'pandas.core.frame.DataFrame'>\n",
      "DatetimeIndex: 11132 entries, 2012-01-01 to 2044-06-01\n",
      "Data columns (total 3 columns):\n",
      "Postal Code       11132 non-null int64\n",
      "Customer Class    11132 non-null object\n",
      "Total Gallons     11132 non-null int64\n",
      "dtypes: int64(2), object(1)\n",
      "memory usage: 304.4+ KB\n"
     ]
    }
   ],
   "source": [
    "#Check to see the change in Index.\n",
    "data.info()"
   ]
  },
  {
   "cell_type": "code",
   "execution_count": 6,
   "metadata": {
    "collapsed": false
   },
   "outputs": [
    {
     "name": "stdout",
     "output_type": "stream",
     "text": [
      "Year Month\n",
      "2017-08-01    167\n",
      "2017-09-01    167\n",
      "2017-06-01    166\n",
      "2017-07-01    166\n",
      "2017-01-01    165\n",
      "2017-03-01    165\n",
      "2017-04-01    165\n",
      "2016-12-01    165\n",
      "2016-10-01    165\n",
      "2016-11-01    165\n",
      "2017-05-01    165\n",
      "2017-02-01    165\n",
      "2016-05-01    163\n",
      "2016-04-01    163\n",
      "2016-02-01    163\n",
      "2016-01-01    162\n",
      "2015-12-01    162\n",
      "2016-09-01    162\n",
      "2016-06-01    162\n",
      "2016-07-01    162\n",
      "2016-03-01    162\n",
      "2016-08-01    162\n",
      "2015-05-01    161\n",
      "2015-08-01    161\n",
      "2015-11-01    161\n",
      "2015-10-01    161\n",
      "2015-09-01    161\n",
      "2015-03-01    161\n",
      "2015-04-01    161\n",
      "2015-07-01    161\n",
      "             ... \n",
      "2013-11-01    157\n",
      "2013-07-01    156\n",
      "2014-06-01    156\n",
      "2013-08-01    156\n",
      "2014-07-01    156\n",
      "2014-09-01    156\n",
      "2014-08-01    156\n",
      "2014-05-01    156\n",
      "2012-01-01    156\n",
      "2014-04-01    156\n",
      "2013-09-01    156\n",
      "2012-07-01    155\n",
      "2013-05-01    155\n",
      "2012-12-01    155\n",
      "2012-05-01    155\n",
      "2013-01-01    155\n",
      "2012-11-01    155\n",
      "2013-02-01    155\n",
      "2012-10-01    155\n",
      "2012-04-01    155\n",
      "2013-06-01    155\n",
      "2012-08-01    155\n",
      "2012-09-01    155\n",
      "2013-04-01    155\n",
      "2013-03-01    155\n",
      "2012-06-01    155\n",
      "2012-03-01    155\n",
      "2012-02-01    155\n",
      "2017-10-01    143\n",
      "2044-06-01      1\n",
      "dtype: int64\n"
     ]
    }
   ],
   "source": [
    "#We notice an the max date of 2044-06-01. This date is in the future and seems to be an anamoly. \n",
    "#Let us check\n",
    "print(data.index.value_counts())\n",
    "# Bingo!! This is defintely an outlier. It only has one value. Let us drop it\n",
    "data=data.drop(data.index[-1])"
   ]
  },
  {
   "cell_type": "code",
   "execution_count": null,
   "metadata": {
    "collapsed": false
   },
   "outputs": [],
   "source": [
    "data[[\"Total Gallons\",\"Customer Class\"]].groupby([data.index]).mean().plot()\n",
    "plt.show()"
   ]
  },
  {
   "cell_type": "code",
   "execution_count": null,
   "metadata": {
    "collapsed": true
   },
   "outputs": [],
   "source": []
  }
 ],
 "metadata": {
  "kernelspec": {
   "display_name": "Python 2",
   "language": "python",
   "name": "python2"
  },
  "language_info": {
   "codemirror_mode": {
    "name": "ipython",
    "version": 2
   },
   "file_extension": ".py",
   "mimetype": "text/x-python",
   "name": "python",
   "nbconvert_exporter": "python",
   "pygments_lexer": "ipython2",
   "version": "2.7.8"
  }
 },
 "nbformat": 4,
 "nbformat_minor": 2
}
