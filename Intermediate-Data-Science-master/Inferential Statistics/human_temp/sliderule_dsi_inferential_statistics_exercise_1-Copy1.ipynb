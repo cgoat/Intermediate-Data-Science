{
 "cells": [
  {
   "cell_type": "markdown",
   "metadata": {},
   "source": [
    "# What is the True Normal Human Body Temperature? \n",
    "\n",
    "#### Background\n",
    "\n",
    "The mean normal body temperature was held to be 37$^{\\circ}$C or 98.6$^{\\circ}$F for more than 120 years since it was first conceptualized and reported by Carl Wunderlich in a famous 1868 book. But, is this value statistically correct?"
   ]
  },
  {
   "cell_type": "markdown",
   "metadata": {},
   "source": [
    "<h3>Exercises</h3>\n",
    "\n",
    "<p>In this exercise, you will analyze a dataset of human body temperatures and employ the concepts of hypothesis testing, confidence intervals, and statistical significance.</p>\n",
    "\n",
    "<p>Answer the following questions <b>in this notebook below and submit to your Github account</b>.</p> \n",
    "\n",
    "<ol>\n",
    "<li>  Is the distribution of body temperatures normal? \n",
    "    <ul>\n",
    "    <li> Although this is not a requirement for CLT to hold (read CLT carefully), it gives us some peace of mind that the population may also be normally distributed if we assume that this sample is representative of the population.\n",
    "    </ul>\n",
    "<li>  Is the sample size large? Are the observations independent?\n",
    "    <ul>\n",
    "    <li> Remember that this is a condition for the CLT, and hence the statistical tests we are using, to apply.\n",
    "    </ul>\n",
    "<li>  Is the true population mean really 98.6 degrees F?\n",
    "    <ul>\n",
    "    <li> Would you use a one-sample or two-sample test? Why?\n",
    "    <li> In this situation, is it appropriate to use the $t$ or $z$ statistic? \n",
    "    <li> Now try using the other test. How is the result be different? Why?\n",
    "    </ul>\n",
    "<li>  Draw a small sample of size 10 from the data and repeat both tests. \n",
    "    <ul>\n",
    "    <li> Which one is the correct one to use? \n",
    "    <li> What do you notice? What does this tell you about the difference in application of the $t$ and $z$ statistic?\n",
    "    </ul>\n",
    "<li>  At what temperature should we consider someone's temperature to be \"abnormal\"?\n",
    "    <ul>\n",
    "    <li> Start by computing the margin of error and confidence interval.\n",
    "    </ul>\n",
    "<li>  Is there a significant difference between males and females in normal temperature?\n",
    "    <ul>\n",
    "    <li> What test did you use and why?\n",
    "    <li> Write a story with your conclusion in the context of the original problem.\n",
    "    </ul>\n",
    "</ol>\n",
    "\n",
    "You can include written notes in notebook cells using Markdown: \n",
    "   - In the control panel at the top, choose Cell > Cell Type > Markdown\n",
    "   - Markdown syntax: http://nestacms.com/docs/creating-content/markdown-cheat-sheet\n",
    "\n",
    "#### Resources\n",
    "\n",
    "+ Information and data sources: http://www.amstat.org/publications/jse/datasets/normtemp.txt, http://www.amstat.org/publications/jse/jse_data_archive.htm\n",
    "+ Markdown syntax: http://nestacms.com/docs/creating-content/markdown-cheat-sheet\n",
    "\n",
    "****"
   ]
  },
  {
   "cell_type": "markdown",
   "metadata": {},
   "source": [
    "<h3> Prepare data to be loaded into a dataframe </h3>"
   ]
  },
  {
   "cell_type": "code",
   "execution_count": 1,
   "metadata": {
    "collapsed": false
   },
   "outputs": [],
   "source": [
    "%matplotlib inline\n",
    "from __future__ import division \n",
    "import pandas as pd\n",
    "import numpy as np\n",
    "import scipy.stats as stats\n",
    "import matplotlib.pyplot as plt\n",
    "import common_funcs as cf"
   ]
  },
  {
   "cell_type": "code",
   "execution_count": 2,
   "metadata": {
    "collapsed": true
   },
   "outputs": [],
   "source": [
    "df = pd.read_csv('data/human_body_temperature.csv')"
   ]
  },
  {
   "cell_type": "code",
   "execution_count": 3,
   "metadata": {
    "collapsed": false
   },
   "outputs": [
    {
     "name": "stdout",
     "output_type": "stream",
     "text": [
      "<class 'pandas.core.frame.DataFrame'>\n",
      "Int64Index: 130 entries, 0 to 129\n",
      "Data columns (total 3 columns):\n",
      "temperature    130 non-null float64\n",
      "gender         130 non-null object\n",
      "heart_rate     130 non-null float64\n",
      "dtypes: float64(2), object(1)\n",
      "memory usage: 3.6+ KB\n",
      "None\n"
     ]
    }
   ],
   "source": [
    "print(df.info())"
   ]
  },
  {
   "cell_type": "markdown",
   "metadata": {},
   "source": [
    "<h3>Observations:</h3>\n",
    "<ol>\n",
    "<li> No Missing values :-)\n",
    "<li> Total of 130 entries\n",
    "<li> Gender is of type string. It can be converted into data type category\n",
    "</ol>"
   ]
  },
  {
   "cell_type": "code",
   "execution_count": 4,
   "metadata": {
    "collapsed": false
   },
   "outputs": [],
   "source": [
    "# Convert gender into type category\n",
    "df.gender = df.gender.astype(\"category\")"
   ]
  },
  {
   "cell_type": "markdown",
   "metadata": {},
   "source": [
    "<h3>Is the distribution of body temperatures normal? </h3>\n",
    "<ol>\n",
    "<li> First we do the visual inspection of data</li>\n",
    "<li> Second we perform Normality tests</li\n",
    "</ol>"
   ]
  },
  {
   "cell_type": "code",
   "execution_count": 5,
   "metadata": {
    "collapsed": false
   },
   "outputs": [
    {
     "data": {
      "image/png": "[encoded data removed]",
      "text/plain": [
       "<matplotlib.figure.Figure at 0x73a1f90>"
      ]
     },
     "metadata": {},
     "output_type": "display_data"
    }
   ],
   "source": [
    "# Do a simple plot of the temperature distribution\n",
    "plt.hist(df.temperature)\n",
    "plt.show()"
   ]
  },
  {
   "cell_type": "markdown",
   "metadata": {},
   "source": [
    "<h3> Observations </h3>\n",
    "from initial observation it looks like it is close to normal distribution. Need to do further Data Analysis."
   ]
  },
  {
   "cell_type": "code",
   "execution_count": 6,
   "metadata": {
    "collapsed": false
   },
   "outputs": [
    {
     "data": {
      "image/png": "[encoded data removed]",
      "text/plain": [
       "<matplotlib.figure.Figure at 0x748fa90>"
      ]
     },
     "metadata": {},
     "output_type": "display_data"
    }
   ],
   "source": [
    "#Let us plot a cumulative distribution of the temperature \n",
    "#overlay it with a normal distribution of the same mean and standard deviation of temp.\n",
    "x_emp, y_emp = cf.ecdf(df.temperature)\n",
    "plt.plot(x_emp, y_emp, marker=\".\", linestyle=\"none\", color=\"blue\")\n",
    "mean_temp = df.temperature.mean()\n",
    "std_temp = df.temperature.std()\n",
    "normal_dist = np.random.normal(mean_temp, std_temp, len(df.temperature))\n",
    "x_theor, y_theor = cf.ecdf(normal_dist)\n",
    "plt.plot(x_theor, y_theor , marker=\".\", linestyle=\"none\", color=\"red\")\n",
    "\n",
    "plt.xlabel(\"Temperature\")\n",
    "plt.ylabel(\"ecdf\")\n",
    "plt.title(\"Empircal Temperature distribution vs an Actual Normal Temperature Distirbution\")\n",
    "plt.legend((\"Empircal Temp.\",\"Theortical Temp.\"), loc=\"upper left\")\n",
    "plt.show()"
   ]
  },
  {
   "cell_type": "markdown",
   "metadata": {},
   "source": [
    "<h3> Observation </h3>\n",
    "Closely matches the normal distribution. Let us generate 100 normal distributions of the same mean and standard deviation of the temperature"
   ]
  },
  {
   "cell_type": "code",
   "execution_count": 7,
   "metadata": {
    "collapsed": false
   },
   "outputs": [
    {
     "data": {
      "image/png": "[encoded data removed]",
      "text/plain": [
       "<matplotlib.figure.Figure at 0x73ed610>"
      ]
     },
     "metadata": {},
     "output_type": "display_data"
    }
   ],
   "source": [
    "#Generate 100 normal distribution samples of the same mean and std of the \n",
    "#temprature and plot them\n",
    "for _ in range(100):\n",
    "    normal_dist = np.random.normal(mean_temp, std_temp, len(df.temperature))\n",
    "    x_theor, y_theor = cf.ecdf(normal_dist)\n",
    "    plt.plot(x_theor, y_theor , marker=\".\", linestyle=\"none\", color=\"red\", alpha=0.2)\n",
    "    \n",
    "#Plot the orginal temperature distribution\n",
    "plt.plot(x_emp, y_emp, marker=\".\", linestyle=\"none\", color=\"blue\")\n",
    "plt.xlabel(\"Temperature\")\n",
    "plt.ylabel(\"ecdf\")\n",
    "plt.title(\"Empircal Temperature distribution vs an 100 sample Normal Temperature Distirbution\")\n",
    "plt.margins(2/100)\n",
    "plt.show()"
   ]
  },
  {
   "cell_type": "code",
   "execution_count": 8,
   "metadata": {
    "collapsed": false
   },
   "outputs": [
    {
     "data": {
      "image/png": "[encoded data removed]",
      "text/plain": [
       "<matplotlib.figure.Figure at 0x7463430>"
      ]
     },
     "metadata": {},
     "output_type": "display_data"
    }
   ],
   "source": [
    "# Do a quantitle quantile Plot\n",
    "stats.probplot(df.temperature, dist='norm', plot=plt)\n",
    "plt.xlabel('Quantiles')\n",
    "plt.ylabel('Temperature')\n",
    "plt.title (\"Quantile- Quantile Plot\")\n",
    "plt.show()"
   ]
  },
  {
   "cell_type": "markdown",
   "metadata": {},
   "source": [
    "<h3>1) Is the distribution of body temperatures normal?</h3>\n",
    "The actual temperature distribution falls with the range of possible theortical distibutions.\n",
    "Visually we can conclude that the Temperature is normally distributed.\n",
    "<font>Let us  perform normality Tests</font>"
   ]
  },
  {
   "cell_type": "code",
   "execution_count": 9,
   "metadata": {
    "collapsed": false
   },
   "outputs": [
    {
     "name": "stdout",
     "output_type": "stream",
     "text": [
      "KS Test- Test Statistic: 1.0  p-value: 0.0\n",
      "Normal Test- Test Statistic: 2.70380143332  p-value: 0.258747986349\n",
      "Shaipro- Test Statistic: 0.986577451229  p-value: 0.233191400766\n"
     ]
    }
   ],
   "source": [
    "# Kolmogorov-Smirnov (K-S) test . \n",
    "# Under the KS Test null hypothesis is that the distribution is normal\n",
    "statistic, p_value = stats.kstest(df.temperature.values, \"norm\")\n",
    "print 'KS Test- Test Statistic:', statistic, ' p-value:', p_value\n",
    "\n",
    "#TODO: Callout the Null Hypothesis.\n",
    "statistic, p_value = stats.normaltest(df.temperature.values)\n",
    "print 'Normal Test- Test Statistic:', statistic, ' p-value:', p_value\n",
    "\n",
    "statistic, p_value = stats.shapiro(df.temperature.values)\n",
    "print 'Shaipro- Test Statistic:', statistic, ' p-value:', p_value\n"
   ]
  },
  {
   "cell_type": "markdown",
   "metadata": {},
   "source": [
    "<h3><font color='green'>Conclusion</font></h3>\n",
    "<font color='green'>The Visual tests and the tests of normality show that the temperature is normally distributed</font>"
   ]
  },
  {
   "cell_type": "markdown",
   "metadata": {},
   "source": [
    "<h3>2) Is the sample size large? Are the observations independent? </h3>\n",
    "Is the sample size large?<br>\n",
    "Yes. A sample size greater than 30 is considered to be a large enough sample size\n",
    "Are the observations independent?\n",
    "Observations are independent if each observation is taken independent of each other and are identically distributed (IID).\n"
   ]
  },
  {
   "cell_type": "markdown",
   "metadata": {
    "collapsed": true
   },
   "source": [
    "<h3> 3) Is the true population mean really 98.6 degrees F? </h3>\n",
    "    <ul>\n",
    "    <li><font color='green'> Would you use a one-sample or two-sample test? Why?<br>\n",
    "         <i>Since we are dealing with only one sample of temperature and since we are comparing the sample with a population mean, we will do the one -sample test</font></i>\n",
    "    <li> In this situation, is it appropriate to use the $t$ or $z$ statistic? <br>\n",
    "          <font color='green'>t-statistic is calculated when the sample size is less than 30 and the standard deviation of the population is known. This is a rather unusua cases in which we do not know the standard deviation and the sample size is large. we will go ahead and use the t-statistic</font></i>\n",
    "    <li> Now try using the other test. How is the result be different? Why?\n",
    "    </ul>"
   ]
  },
  {
   "cell_type": "code",
   "execution_count": 10,
   "metadata": {
    "collapsed": false
   },
   "outputs": [
    {
     "name": "stdout",
     "output_type": "stream",
     "text": [
      "p_value= 2.41063204156e-07\n",
      "t_statistic= -5.45482329236\n"
     ]
    }
   ],
   "source": [
    "t_statistic,p_value = stats.ttest_1samp(df.temperature,98.6)\n",
    "print \"p_value=\", p_value\n",
    "print \"t_statistic=\", t_statistic"
   ]
  },
  {
   "cell_type": "markdown",
   "metadata": {},
   "source": [
    "<h3>Observation</h3>\n",
    "The p value is very small and hence the null Hypothesis (temperature of sample is equal to 98.6) can be rejected. <font color=\"green\">In other words The true population mean based on this sample is not 98.6 F</font </h3>"
   ]
  },
  {
   "cell_type": "code",
   "execution_count": 11,
   "metadata": {
    "collapsed": false
   },
   "outputs": [
    {
     "name": "stdout",
     "output_type": "stream",
     "text": [
      "p_value= 2.17615758249e-08\n",
      "z_statistic= -5.47592520212\n"
     ]
    }
   ],
   "source": [
    "z_stat,p_value = cf.z_statistic(df.temperature,98.6,np.std(df.temperature))\n",
    "print \"p_value=\", p_value\n",
    "print \"z_statistic=\", z_stat"
   ]
  },
  {
   "cell_type": "markdown",
   "metadata": {},
   "source": [
    "<li>  Draw a small sample of size 10 from the data and repeat both tests. \n",
    "    <ul>\n",
    "    <li> Which one is the correct one to use? \n",
    "        <font color=\"green\">T - Statistic is the right one to use since sample is less than 30.</font>\n",
    "    <li> What do you notice? What does this tell you about the difference in application of the $t$ and $z$ statistic?\n",
    "    </ul>\n",
    "<li> "
   ]
  },
  {
   "cell_type": "code",
   "execution_count": 12,
   "metadata": {
    "collapsed": false
   },
   "outputs": [
    {
     "name": "stdout",
     "output_type": "stream",
     "text": [
      "p_value= 0.00448945173721\n",
      "t_statistic= -3.75935719426\n"
     ]
    }
   ],
   "source": [
    "#draw sample size of 10\n",
    "#TODO: why do i use choice. Does it break independence.\n",
    "samp_10 = np.random.choice(df.temperature,10)\n",
    "t_statistic, p_value = stats.ttest_1samp(samp_10,98.6)\n",
    "print \"p_value=\", p_value\n",
    "print \"t_statistic=\", t_statistic"
   ]
  },
  {
   "cell_type": "markdown",
   "metadata": {},
   "source": [
    "<font color=\"green\">We notice that the p_value is statistically signicant and we cannot reject the null hypothesis."
   ]
  },
  {
   "cell_type": "markdown",
   "metadata": {},
   "source": [
    "<li> 5) At what temperature should we consider someone's temperature to be \"abnormal\"?\n",
    "    <ul>\n",
    "    <li> Start by computing the margin of error and confidence interval.\n",
    "    </ul>"
   ]
  },
  {
   "cell_type": "code",
   "execution_count": 13,
   "metadata": {
    "collapsed": false
   },
   "outputs": [
    {
     "name": "stdout",
     "output_type": "stream",
     "text": [
      "Degrees of Freedom: 129\n",
      "critcal_value: 2.6144786797\n",
      "standard deviation of sample:  0.733183158034\n",
      "Standard Mean Error: 0.0645531775994\n",
      "Margin of Error =  0.16877290654\n",
      "Mean temp: 98.2492307692\n",
      "Normal temperature limits = [ 98.0804578627 , 98.4180036758 ]\n"
     ]
    }
   ],
   "source": [
    "# Assume 99% confidence interval\n",
    "# MOE = 2.58 * Standard error\n",
    "#dof=df.temperature.shape[0]-1\n",
    "dof = df.temperature.shape[0] - 1\n",
    "print \"Degrees of Freedom:\", dof\n",
    "critcal_value = stats.t.ppf(0.995,dof)\n",
    "print \"critcal_value:\" ,critcal_value\n",
    "s = np.std(df.temperature, ddof=1)\n",
    "print \"standard deviation of sample: \", s\n",
    "se = s / np.sqrt(df.temperature.shape[0] - 1)\n",
    "print \"Standard Mean Error:\", se\n",
    "moe = critcal_value * se\n",
    "print \"Margin of Error = \", moe\n",
    "print \"Mean temp:\", mean_temp\n",
    "#Anything above and below the two times SE can be considered abnormal temp\n",
    "print \"Normal temperature limits = [\" , mean_temp-moe ,\",\", mean_temp+moe, \"]\""
   ]
  },
  {
   "cell_type": "markdown",
   "metadata": {},
   "source": [
    "<font color=\"green\">Any temperature below 98.08 and above 98.41 can be considered abnormal</font>\n",
    "\n",
    "<li> 6) Is there a significant difference between males and females in normal temperature?\n",
    "    <ul>\n",
    "    <li> What test did you use and why?.\n",
    "    <font color=\"green\">Used the T-test of independence, since males and female observations are independent of each other.</font>\n",
    "    <li> Write a story with your conclusion in the context of the original problem.\n",
    "    </ul>"
   ]
  },
  {
   "cell_type": "code",
   "execution_count": 14,
   "metadata": {
    "collapsed": false
   },
   "outputs": [
    {
     "name": "stdout",
     "output_type": "stream",
     "text": [
      "p_value= 0.0239318831224\n",
      "t_statistic= 2.28543453817\n"
     ]
    }
   ],
   "source": [
    "female_temp=df[df.gender=='F'][\"temperature\"]\n",
    "male_temp=df[df.gender=='M'][\"temperature\"]\n",
    "t_statistic, p_value = stats.ttest_ind(female_temp,male_temp)\n",
    "print \"p_value=\", p_value\n",
    "print \"t_statistic=\", t_statistic\n",
    "#TODO: try and do a mean test"
   ]
  },
  {
   "cell_type": "markdown",
   "metadata": {},
   "source": [
    "The p_value is < 0.05 and hence the null hypothesis(There is no difference in temperature between the two samples) can be rejected. <font color=\"green\">There a significant difference between males and females in normal temperature </font>"
   ]
  },
  {
   "cell_type": "markdown",
   "metadata": {},
   "source": [
    "<h3>Write a story with your conclusion in the context of the original problem.</h3>\n",
    "<i>The mean normal body temperature was held to be 37$^{\\circ}$C or 98.6$^{\\circ}$F for more than 120 years since it was first conceptualized and reported by Carl Wunderlich in a famous 1868 book. But, is this value statistically correct?</i>\n",
    "<font color=\"green\"> Based on the data sample, the mean temperature of the population as a point estimate is 98.24. With a confidence interval of 99% the mean temperature range is  98.08 , 98.41]</font>"
   ]
  }
 ],
 "metadata": {
  "kernelspec": {
   "display_name": "Python 2",
   "language": "python",
   "name": "python2"
  },
  "language_info": {
   "codemirror_mode": {
    "name": "ipython",
    "version": 2
   },
   "file_extension": ".py",
   "mimetype": "text/x-python",
   "name": "python",
   "nbconvert_exporter": "python",
   "pygments_lexer": "ipython2",
   "version": "2.7.8"
  }
 },
 "nbformat": 4,
 "nbformat_minor": 1
}
