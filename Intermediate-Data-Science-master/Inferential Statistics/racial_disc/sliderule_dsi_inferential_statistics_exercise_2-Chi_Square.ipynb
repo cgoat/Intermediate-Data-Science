{
 "cells": [
  {
   "cell_type": "markdown",
   "metadata": {},
   "source": [
    "# Examining Racial Discrimination in the US Job Market\n",
    "\n",
    "### Background\n",
    "Racial discrimination continues to be pervasive in cultures throughout the world. Researchers examined the level of racial discrimination in the United States labor market by randomly assigning identical résumés to black-sounding or white-sounding names and observing the impact on requests for interviews from employers.\n",
    "\n",
    "### Data\n",
    "In the dataset provided, each row represents a resume. The 'race' column has two values, 'b' and 'w', indicating black-sounding and white-sounding. The column 'call' has two values, 1 and 0, indicating whether the resume received a call from employers or not.\n",
    "\n",
    "Note that the 'b' and 'w' values in race are assigned randomly to the resumes when presented to the employer."
   ]
  },
  {
   "cell_type": "markdown",
   "metadata": {},
   "source": [
    "### Exercises\n",
    "You will perform a statistical analysis to establish whether race has a significant impact on the rate of callbacks for resumes.\n",
    "\n",
    "Answer the following questions **in this notebook below and submit to your Github account**. \n",
    "\n",
    "   1. What test is appropriate for this problem? Does CLT apply?\n",
    "   2. What are the null and alternate hypotheses?\n",
    "   3. Compute margin of error, confidence interval, and p-value.\n",
    "   4. Write a story describing the statistical significance in the context or the original problem.\n",
    "   5. Does your analysis mean that race/name is the most important factor in callback success? Why or why not? If not, how would you amend your analysis?\n",
    "\n",
    "You can include written notes in notebook cells using Markdown: \n",
    "   - In the control panel at the top, choose Cell > Cell Type > Markdown\n",
    "   - Markdown syntax: http://nestacms.com/docs/creating-content/markdown-cheat-sheet\n",
    "\n",
    "\n",
    "#### Resources\n",
    "+ Experiment information and data source: http://www.povertyactionlab.org/evaluation/discrimination-job-market-united-states\n",
    "+ Scipy statistical methods: http://docs.scipy.org/doc/scipy/reference/stats.html \n",
    "+ Markdown syntax: http://nestacms.com/docs/creating-content/markdown-cheat-sheet\n",
    "****"
   ]
  },
  {
   "cell_type": "code",
   "execution_count": 19,
   "metadata": {
    "collapsed": true
   },
   "outputs": [],
   "source": [
    "import pandas as pd\n",
    "import numpy as np\n",
    "from scipy import stats\n",
    "from __future__ import division "
   ]
  },
  {
   "cell_type": "code",
   "execution_count": 7,
   "metadata": {
    "collapsed": false
   },
   "outputs": [],
   "source": [
    "data = pd.io.stata.read_stata('data/us_job_market_discrimination.dta')"
   ]
  },
  {
   "cell_type": "code",
   "execution_count": 29,
   "metadata": {
    "collapsed": false
   },
   "outputs": [
    {
     "name": "stdout",
     "output_type": "stream",
     "text": [
      "Total No. of Black Resumes:  2435\n",
      "Total No. of Black's called:  157.0\n",
      "Total No. of White Resumes:  2435\n",
      "Total No. of White's called:  235.0\n"
     ]
    }
   ],
   "source": [
    "# number of callbacks for black-sounding names\n",
    "black_callbacks = sum(data[data.race=='b'].call)\n",
    "# number of callbacks for white-sounding names\n",
    "white_callbacks = sum(data[data.race=='w'].call)\n",
    "#black_total\n",
    "black_total = data[data.race=='b'].call.shape[0]\n",
    "#white_total\n",
    "white_total = data[data.race=='w'].call.shape[0]\n",
    "\n",
    "print \"Total No. of Black Resumes: \", black_total\n",
    "print \"Total No. of Black's called: \", black_callbacks\n",
    "print \"Total No. of White Resumes: \", white_total\n",
    "print \"Total No. of White's called: \", white_callbacks"
   ]
  },
  {
   "cell_type": "code",
   "execution_count": 30,
   "metadata": {
    "collapsed": false
   },
   "outputs": [
    {
     "name": "stdout",
     "output_type": "stream",
     "text": [
      "Chisquare Statistic =  0.704971223052\n",
      "P value =  0.401118315966\n"
     ]
    }
   ],
   "source": [
    "obs_black_callback_prop = black_callbacks/ black_total\n",
    "obs_white_callback_prop = white_callbacks/ white_total\n",
    "\n",
    "f_obs = np.array((obs_black_callback_prop, obs_white_callback_prop))\n",
    "f_exp = np.array((0.5,0.5)) # Expected 50% callbacks for white and blacks\n",
    "\n",
    "chisquare_statistic, p_value = stats.chisquare(f_obs,f_exp)\n",
    "\n",
    "print \"Chisquare Statistic = \", chisquare_statistic\n",
    "print \"P value = \", p_value"
   ]
  },
  {
   "cell_type": "markdown",
   "metadata": {},
   "source": [
    "<h3>Observation</h3>\n",
    "<font color=\"green\">The P value is high and not statistically significant. Hence the null Hypothesis can be rejected. There is a difference between the call back rate between white and Black.</font>"
   ]
  },
  {
   "cell_type": "markdown",
   "metadata": {
    "collapsed": true
   },
   "source": [
    "Answer the following questions **in this notebook below and submit to your Github account**. \n",
    "\n",
    "   1. What test is appropriate for this problem? Does CLT apply?\n",
    "      <br><font color=\"green\">Since this is frequency or proportion data.\n",
    "      We will use the Chi Square Test\n",
    "      CLT is not applicable to this. There is no way to calculate Mean or Standard Deviation\n",
    "      </font>\n",
    "      \n",
    "   2. What are the null and alternate hypotheses?\n",
    "      <br><font color=\"green\">Null Hypothesis is there is no call back difference between\n",
    "      whites and blacks<br>Alternative Hypotheis is that there is a difference in call back\n",
    "      between whites and blacks</font>\n",
    "      \n",
    "   3. Compute margin of error, confidence interval, and p-value.\n",
    "   4. Write a story describing the statistical significance in the context or the original problem.\n",
    "   5. Does your analysis mean that race/name is the most important factor in callback success? Why or why not? If not, how would you amend your analysis?"
   ]
  }
 ],
 "metadata": {
  "kernelspec": {
   "display_name": "Python 2",
   "language": "python",
   "name": "python2"
  },
  "language_info": {
   "codemirror_mode": {
    "name": "ipython",
    "version": 2
   },
   "file_extension": ".py",
   "mimetype": "text/x-python",
   "name": "python",
   "nbconvert_exporter": "python",
   "pygments_lexer": "ipython2",
   "version": "2.7.8"
  }
 },
 "nbformat": 4,
 "nbformat_minor": 0
}
