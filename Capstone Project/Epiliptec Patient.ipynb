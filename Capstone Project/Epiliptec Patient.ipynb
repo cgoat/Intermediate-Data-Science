{
 "cells": [
  {
   "cell_type": "code",
   "execution_count": 97,
   "metadata": {
    "collapsed": true
   },
   "outputs": [],
   "source": [
    "# The goal of the project is to predict whether the subject has \n",
    "# epileptic seizure or not based on the output from EEG. \n",
    "# This would be a classification project. \n",
    "# The data set is available at https://archive.ics.uci.edu/ml/datasets/Epileptic+Seizure+Recognition. \n",
    "# Total number of records are 11,500 and number of attributes is 179"
   ]
  },
  {
   "cell_type": "code",
   "execution_count": 98,
   "metadata": {
    "collapsed": true
   },
   "outputs": [],
   "source": [
    "%matplotlib inline\n",
    "import pandas as pd \n",
    "import urllib2 as url\n",
    "import matplotlib.pyplot as plt\n",
    "import numpy as np\n",
    "import seaborn as sns\n",
    "import scipy.stats as stats\n",
    "from sklearn.metrics import confusion_matrix, classification_report\n",
    "from sklearn.model_selection import train_test_split\n",
    "from sklearn.linear_model import LogisticRegression\n",
    "from sklearn.metrics import roc_curve,auc\n",
    "from sklearn.ensemble import RandomForestClassifier\n",
    "from collections import Counter\n",
    "from sklearn.pipeline import Pipeline\n",
    "from sklearn.model_selection import GridSearchCV"
   ]
  },
  {
   "cell_type": "code",
   "execution_count": 99,
   "metadata": {
    "collapsed": true
   },
   "outputs": [],
   "source": [
    "#Load the Data from the website.\n",
    "data = pd.read_csv(\"https://archive.ics.uci.edu/ml/machine-learning-databases/00388/data.csv\",index_col=[0])\n",
    "# The first column does nto have a Header. It also happens to be the column we want to index\n",
    "data.index.name= \"ID\" "
   ]
  },
  {
   "cell_type": "markdown",
   "metadata": {},
   "source": [
    "<h3> Exploratory Data Analysis </h3>"
   ]
  },
  {
   "cell_type": "code",
   "execution_count": 100,
   "metadata": {},
   "outputs": [
    {
     "data": {
      "text/html": [
       "<div>\n",
       "<table border=\"1\" class=\"dataframe\">\n",
       "  <thead>\n",
       "    <tr style=\"text-align: right;\">\n",
       "      <th></th>\n",
       "      <th>X1</th>\n",
       "      <th>X2</th>\n",
       "      <th>X3</th>\n",
       "      <th>X4</th>\n",
       "      <th>X5</th>\n",
       "      <th>X6</th>\n",
       "      <th>X7</th>\n",
       "      <th>X8</th>\n",
       "      <th>X9</th>\n",
       "      <th>X10</th>\n",
       "      <th>...</th>\n",
       "      <th>X170</th>\n",
       "      <th>X171</th>\n",
       "      <th>X172</th>\n",
       "      <th>X173</th>\n",
       "      <th>X174</th>\n",
       "      <th>X175</th>\n",
       "      <th>X176</th>\n",
       "      <th>X177</th>\n",
       "      <th>X178</th>\n",
       "      <th>y</th>\n",
       "    </tr>\n",
       "    <tr>\n",
       "      <th>ID</th>\n",
       "      <th></th>\n",
       "      <th></th>\n",
       "      <th></th>\n",
       "      <th></th>\n",
       "      <th></th>\n",
       "      <th></th>\n",
       "      <th></th>\n",
       "      <th></th>\n",
       "      <th></th>\n",
       "      <th></th>\n",
       "      <th></th>\n",
       "      <th></th>\n",
       "      <th></th>\n",
       "      <th></th>\n",
       "      <th></th>\n",
       "      <th></th>\n",
       "      <th></th>\n",
       "      <th></th>\n",
       "      <th></th>\n",
       "      <th></th>\n",
       "      <th></th>\n",
       "    </tr>\n",
       "  </thead>\n",
       "  <tbody>\n",
       "    <tr>\n",
       "      <th>X21.V1.791</th>\n",
       "      <td>135</td>\n",
       "      <td>190</td>\n",
       "      <td>229</td>\n",
       "      <td>223</td>\n",
       "      <td>192</td>\n",
       "      <td>125</td>\n",
       "      <td>55</td>\n",
       "      <td>-9</td>\n",
       "      <td>-33</td>\n",
       "      <td>-38</td>\n",
       "      <td>...</td>\n",
       "      <td>-17</td>\n",
       "      <td>-15</td>\n",
       "      <td>-31</td>\n",
       "      <td>-77</td>\n",
       "      <td>-103</td>\n",
       "      <td>-127</td>\n",
       "      <td>-116</td>\n",
       "      <td>-83</td>\n",
       "      <td>-51</td>\n",
       "      <td>4</td>\n",
       "    </tr>\n",
       "    <tr>\n",
       "      <th>X15.V1.924</th>\n",
       "      <td>386</td>\n",
       "      <td>382</td>\n",
       "      <td>356</td>\n",
       "      <td>331</td>\n",
       "      <td>320</td>\n",
       "      <td>315</td>\n",
       "      <td>307</td>\n",
       "      <td>272</td>\n",
       "      <td>244</td>\n",
       "      <td>232</td>\n",
       "      <td>...</td>\n",
       "      <td>164</td>\n",
       "      <td>150</td>\n",
       "      <td>146</td>\n",
       "      <td>152</td>\n",
       "      <td>157</td>\n",
       "      <td>156</td>\n",
       "      <td>154</td>\n",
       "      <td>143</td>\n",
       "      <td>129</td>\n",
       "      <td>1</td>\n",
       "    </tr>\n",
       "    <tr>\n",
       "      <th>X8.V1.1</th>\n",
       "      <td>-32</td>\n",
       "      <td>-39</td>\n",
       "      <td>-47</td>\n",
       "      <td>-37</td>\n",
       "      <td>-32</td>\n",
       "      <td>-36</td>\n",
       "      <td>-57</td>\n",
       "      <td>-73</td>\n",
       "      <td>-85</td>\n",
       "      <td>-94</td>\n",
       "      <td>...</td>\n",
       "      <td>57</td>\n",
       "      <td>64</td>\n",
       "      <td>48</td>\n",
       "      <td>19</td>\n",
       "      <td>-12</td>\n",
       "      <td>-30</td>\n",
       "      <td>-35</td>\n",
       "      <td>-35</td>\n",
       "      <td>-36</td>\n",
       "      <td>5</td>\n",
       "    </tr>\n",
       "    <tr>\n",
       "      <th>X16.V1.60</th>\n",
       "      <td>-105</td>\n",
       "      <td>-101</td>\n",
       "      <td>-96</td>\n",
       "      <td>-92</td>\n",
       "      <td>-89</td>\n",
       "      <td>-95</td>\n",
       "      <td>-102</td>\n",
       "      <td>-100</td>\n",
       "      <td>-87</td>\n",
       "      <td>-79</td>\n",
       "      <td>...</td>\n",
       "      <td>-82</td>\n",
       "      <td>-81</td>\n",
       "      <td>-80</td>\n",
       "      <td>-77</td>\n",
       "      <td>-85</td>\n",
       "      <td>-77</td>\n",
       "      <td>-72</td>\n",
       "      <td>-69</td>\n",
       "      <td>-65</td>\n",
       "      <td>5</td>\n",
       "    </tr>\n",
       "    <tr>\n",
       "      <th>X20.V1.54</th>\n",
       "      <td>-9</td>\n",
       "      <td>-65</td>\n",
       "      <td>-98</td>\n",
       "      <td>-102</td>\n",
       "      <td>-78</td>\n",
       "      <td>-48</td>\n",
       "      <td>-16</td>\n",
       "      <td>0</td>\n",
       "      <td>-21</td>\n",
       "      <td>-59</td>\n",
       "      <td>...</td>\n",
       "      <td>4</td>\n",
       "      <td>2</td>\n",
       "      <td>-12</td>\n",
       "      <td>-32</td>\n",
       "      <td>-41</td>\n",
       "      <td>-65</td>\n",
       "      <td>-83</td>\n",
       "      <td>-89</td>\n",
       "      <td>-73</td>\n",
       "      <td>5</td>\n",
       "    </tr>\n",
       "  </tbody>\n",
       "</table>\n",
       "<p>5 rows × 179 columns</p>\n",
       "</div>"
      ],
      "text/plain": [
       "             X1   X2   X3   X4   X5   X6   X7   X8   X9  X10 ...  X170  X171  \\\n",
       "ID                                                           ...               \n",
       "X21.V1.791  135  190  229  223  192  125   55   -9  -33  -38 ...   -17   -15   \n",
       "X15.V1.924  386  382  356  331  320  315  307  272  244  232 ...   164   150   \n",
       "X8.V1.1     -32  -39  -47  -37  -32  -36  -57  -73  -85  -94 ...    57    64   \n",
       "X16.V1.60  -105 -101  -96  -92  -89  -95 -102 -100  -87  -79 ...   -82   -81   \n",
       "X20.V1.54    -9  -65  -98 -102  -78  -48  -16    0  -21  -59 ...     4     2   \n",
       "\n",
       "            X172  X173  X174  X175  X176  X177  X178  y  \n",
       "ID                                                       \n",
       "X21.V1.791   -31   -77  -103  -127  -116   -83   -51  4  \n",
       "X15.V1.924   146   152   157   156   154   143   129  1  \n",
       "X8.V1.1       48    19   -12   -30   -35   -35   -36  5  \n",
       "X16.V1.60    -80   -77   -85   -77   -72   -69   -65  5  \n",
       "X20.V1.54    -12   -32   -41   -65   -83   -89   -73  5  \n",
       "\n",
       "[5 rows x 179 columns]"
      ]
     },
     "execution_count": 100,
     "metadata": {},
     "output_type": "execute_result"
    }
   ],
   "source": [
    "# Check Top 5 rows\n",
    "data.head(5)"
   ]
  },
  {
   "cell_type": "code",
   "execution_count": 101,
   "metadata": {},
   "outputs": [
    {
     "data": {
      "text/plain": [
       "(11500, 179)"
      ]
     },
     "execution_count": 101,
     "metadata": {},
     "output_type": "execute_result"
    }
   ],
   "source": [
    "# Check the shape of the data\n",
    "data.shape"
   ]
  },
  {
   "cell_type": "code",
   "execution_count": 102,
   "metadata": {},
   "outputs": [
    {
     "data": {
      "text/plain": [
       "Index([u'X1', u'X2', u'X3', u'X4', u'X5', u'X6', u'X7', u'X8', u'X9', u'X10',\n",
       "       ...\n",
       "       u'X170', u'X171', u'X172', u'X173', u'X174', u'X175', u'X176', u'X177',\n",
       "       u'X178', u'y'],\n",
       "      dtype='object', length=179)"
      ]
     },
     "execution_count": 102,
     "metadata": {},
     "output_type": "execute_result"
    }
   ],
   "source": [
    "#Name of the columns\n",
    "data.columns"
   ]
  },
  {
   "cell_type": "code",
   "execution_count": 103,
   "metadata": {},
   "outputs": [
    {
     "name": "stdout",
     "output_type": "stream",
     "text": [
      "<class 'pandas.core.frame.DataFrame'>\n",
      "Index: 11500 entries, X21.V1.791 to X16.V1.210\n",
      "Columns: 179 entries, X1 to y\n",
      "dtypes: int64(179)\n",
      "memory usage: 15.8+ MB\n"
     ]
    }
   ],
   "source": [
    "data.info()\n",
    "# OBSERVATIONS based on the result\n",
    "# All the attributes have data type of Integer.\n",
    "# No missing values"
   ]
  },
  {
   "cell_type": "code",
   "execution_count": 104,
   "metadata": {},
   "outputs": [
    {
     "data": {
      "text/html": [
       "<div>\n",
       "<table border=\"1\" class=\"dataframe\">\n",
       "  <thead>\n",
       "    <tr style=\"text-align: right;\">\n",
       "      <th></th>\n",
       "      <th>X1</th>\n",
       "      <th>X2</th>\n",
       "      <th>X3</th>\n",
       "      <th>X4</th>\n",
       "      <th>X5</th>\n",
       "      <th>X6</th>\n",
       "      <th>X7</th>\n",
       "      <th>X8</th>\n",
       "      <th>X9</th>\n",
       "      <th>X10</th>\n",
       "      <th>...</th>\n",
       "      <th>X170</th>\n",
       "      <th>X171</th>\n",
       "      <th>X172</th>\n",
       "      <th>X173</th>\n",
       "      <th>X174</th>\n",
       "      <th>X175</th>\n",
       "      <th>X176</th>\n",
       "      <th>X177</th>\n",
       "      <th>X178</th>\n",
       "      <th>y</th>\n",
       "    </tr>\n",
       "  </thead>\n",
       "  <tbody>\n",
       "    <tr>\n",
       "      <th>count</th>\n",
       "      <td>11500.000000</td>\n",
       "      <td>11500.000000</td>\n",
       "      <td>11500.000000</td>\n",
       "      <td>11500.000000</td>\n",
       "      <td>11500.000000</td>\n",
       "      <td>11500.000000</td>\n",
       "      <td>11500.000000</td>\n",
       "      <td>11500.00000</td>\n",
       "      <td>11500.00000</td>\n",
       "      <td>11500.000000</td>\n",
       "      <td>...</td>\n",
       "      <td>11500.000000</td>\n",
       "      <td>11500.000000</td>\n",
       "      <td>11500.000000</td>\n",
       "      <td>11500.000000</td>\n",
       "      <td>11500.000000</td>\n",
       "      <td>11500.000000</td>\n",
       "      <td>11500.000000</td>\n",
       "      <td>11500.000000</td>\n",
       "      <td>11500.000000</td>\n",
       "      <td>11500.000000</td>\n",
       "    </tr>\n",
       "    <tr>\n",
       "      <th>mean</th>\n",
       "      <td>-11.581391</td>\n",
       "      <td>-10.911565</td>\n",
       "      <td>-10.187130</td>\n",
       "      <td>-9.143043</td>\n",
       "      <td>-8.009739</td>\n",
       "      <td>-7.003478</td>\n",
       "      <td>-6.502087</td>\n",
       "      <td>-6.68713</td>\n",
       "      <td>-6.55800</td>\n",
       "      <td>-6.168435</td>\n",
       "      <td>...</td>\n",
       "      <td>-10.145739</td>\n",
       "      <td>-11.630348</td>\n",
       "      <td>-12.943478</td>\n",
       "      <td>-13.668870</td>\n",
       "      <td>-13.363304</td>\n",
       "      <td>-13.045043</td>\n",
       "      <td>-12.705130</td>\n",
       "      <td>-12.426000</td>\n",
       "      <td>-12.195652</td>\n",
       "      <td>3.000000</td>\n",
       "    </tr>\n",
       "    <tr>\n",
       "      <th>std</th>\n",
       "      <td>165.626284</td>\n",
       "      <td>166.059609</td>\n",
       "      <td>163.524317</td>\n",
       "      <td>161.269041</td>\n",
       "      <td>160.998007</td>\n",
       "      <td>161.328725</td>\n",
       "      <td>161.467837</td>\n",
       "      <td>162.11912</td>\n",
       "      <td>162.03336</td>\n",
       "      <td>160.436352</td>\n",
       "      <td>...</td>\n",
       "      <td>164.652883</td>\n",
       "      <td>166.149790</td>\n",
       "      <td>168.554058</td>\n",
       "      <td>168.556486</td>\n",
       "      <td>167.257290</td>\n",
       "      <td>164.241019</td>\n",
       "      <td>162.895832</td>\n",
       "      <td>162.886311</td>\n",
       "      <td>164.852015</td>\n",
       "      <td>1.414275</td>\n",
       "    </tr>\n",
       "    <tr>\n",
       "      <th>min</th>\n",
       "      <td>-1839.000000</td>\n",
       "      <td>-1838.000000</td>\n",
       "      <td>-1835.000000</td>\n",
       "      <td>-1845.000000</td>\n",
       "      <td>-1791.000000</td>\n",
       "      <td>-1757.000000</td>\n",
       "      <td>-1832.000000</td>\n",
       "      <td>-1778.00000</td>\n",
       "      <td>-1840.00000</td>\n",
       "      <td>-1867.000000</td>\n",
       "      <td>...</td>\n",
       "      <td>-1867.000000</td>\n",
       "      <td>-1865.000000</td>\n",
       "      <td>-1642.000000</td>\n",
       "      <td>-1723.000000</td>\n",
       "      <td>-1866.000000</td>\n",
       "      <td>-1863.000000</td>\n",
       "      <td>-1781.000000</td>\n",
       "      <td>-1727.000000</td>\n",
       "      <td>-1829.000000</td>\n",
       "      <td>1.000000</td>\n",
       "    </tr>\n",
       "    <tr>\n",
       "      <th>25%</th>\n",
       "      <td>-54.000000</td>\n",
       "      <td>-55.000000</td>\n",
       "      <td>-54.000000</td>\n",
       "      <td>-54.000000</td>\n",
       "      <td>-54.000000</td>\n",
       "      <td>-54.000000</td>\n",
       "      <td>-54.000000</td>\n",
       "      <td>-55.00000</td>\n",
       "      <td>-55.00000</td>\n",
       "      <td>-54.000000</td>\n",
       "      <td>...</td>\n",
       "      <td>-55.000000</td>\n",
       "      <td>-56.000000</td>\n",
       "      <td>-56.000000</td>\n",
       "      <td>-56.000000</td>\n",
       "      <td>-55.000000</td>\n",
       "      <td>-56.000000</td>\n",
       "      <td>-55.000000</td>\n",
       "      <td>-55.000000</td>\n",
       "      <td>-55.000000</td>\n",
       "      <td>2.000000</td>\n",
       "    </tr>\n",
       "    <tr>\n",
       "      <th>50%</th>\n",
       "      <td>-8.000000</td>\n",
       "      <td>-8.000000</td>\n",
       "      <td>-7.000000</td>\n",
       "      <td>-8.000000</td>\n",
       "      <td>-8.000000</td>\n",
       "      <td>-8.000000</td>\n",
       "      <td>-8.000000</td>\n",
       "      <td>-8.00000</td>\n",
       "      <td>-7.00000</td>\n",
       "      <td>-7.000000</td>\n",
       "      <td>...</td>\n",
       "      <td>-9.000000</td>\n",
       "      <td>-10.000000</td>\n",
       "      <td>-10.000000</td>\n",
       "      <td>-10.000000</td>\n",
       "      <td>-10.000000</td>\n",
       "      <td>-9.000000</td>\n",
       "      <td>-9.000000</td>\n",
       "      <td>-9.000000</td>\n",
       "      <td>-9.000000</td>\n",
       "      <td>3.000000</td>\n",
       "    </tr>\n",
       "    <tr>\n",
       "      <th>75%</th>\n",
       "      <td>34.000000</td>\n",
       "      <td>35.000000</td>\n",
       "      <td>36.000000</td>\n",
       "      <td>36.000000</td>\n",
       "      <td>35.000000</td>\n",
       "      <td>36.000000</td>\n",
       "      <td>35.000000</td>\n",
       "      <td>36.00000</td>\n",
       "      <td>36.00000</td>\n",
       "      <td>35.250000</td>\n",
       "      <td>...</td>\n",
       "      <td>34.000000</td>\n",
       "      <td>34.000000</td>\n",
       "      <td>33.000000</td>\n",
       "      <td>33.000000</td>\n",
       "      <td>34.000000</td>\n",
       "      <td>34.000000</td>\n",
       "      <td>34.000000</td>\n",
       "      <td>34.000000</td>\n",
       "      <td>34.000000</td>\n",
       "      <td>4.000000</td>\n",
       "    </tr>\n",
       "    <tr>\n",
       "      <th>max</th>\n",
       "      <td>1726.000000</td>\n",
       "      <td>1713.000000</td>\n",
       "      <td>1697.000000</td>\n",
       "      <td>1612.000000</td>\n",
       "      <td>1518.000000</td>\n",
       "      <td>1816.000000</td>\n",
       "      <td>2047.000000</td>\n",
       "      <td>2047.00000</td>\n",
       "      <td>2047.00000</td>\n",
       "      <td>2047.000000</td>\n",
       "      <td>...</td>\n",
       "      <td>1777.000000</td>\n",
       "      <td>1472.000000</td>\n",
       "      <td>1319.000000</td>\n",
       "      <td>1436.000000</td>\n",
       "      <td>1733.000000</td>\n",
       "      <td>1958.000000</td>\n",
       "      <td>2047.000000</td>\n",
       "      <td>2047.000000</td>\n",
       "      <td>1915.000000</td>\n",
       "      <td>5.000000</td>\n",
       "    </tr>\n",
       "  </tbody>\n",
       "</table>\n",
       "<p>8 rows × 179 columns</p>\n",
       "</div>"
      ],
      "text/plain": [
       "                 X1            X2            X3            X4            X5  \\\n",
       "count  11500.000000  11500.000000  11500.000000  11500.000000  11500.000000   \n",
       "mean     -11.581391    -10.911565    -10.187130     -9.143043     -8.009739   \n",
       "std      165.626284    166.059609    163.524317    161.269041    160.998007   \n",
       "min    -1839.000000  -1838.000000  -1835.000000  -1845.000000  -1791.000000   \n",
       "25%      -54.000000    -55.000000    -54.000000    -54.000000    -54.000000   \n",
       "50%       -8.000000     -8.000000     -7.000000     -8.000000     -8.000000   \n",
       "75%       34.000000     35.000000     36.000000     36.000000     35.000000   \n",
       "max     1726.000000   1713.000000   1697.000000   1612.000000   1518.000000   \n",
       "\n",
       "                 X6            X7           X8           X9           X10  \\\n",
       "count  11500.000000  11500.000000  11500.00000  11500.00000  11500.000000   \n",
       "mean      -7.003478     -6.502087     -6.68713     -6.55800     -6.168435   \n",
       "std      161.328725    161.467837    162.11912    162.03336    160.436352   \n",
       "min    -1757.000000  -1832.000000  -1778.00000  -1840.00000  -1867.000000   \n",
       "25%      -54.000000    -54.000000    -55.00000    -55.00000    -54.000000   \n",
       "50%       -8.000000     -8.000000     -8.00000     -7.00000     -7.000000   \n",
       "75%       36.000000     35.000000     36.00000     36.00000     35.250000   \n",
       "max     1816.000000   2047.000000   2047.00000   2047.00000   2047.000000   \n",
       "\n",
       "           ...               X170          X171          X172          X173  \\\n",
       "count      ...       11500.000000  11500.000000  11500.000000  11500.000000   \n",
       "mean       ...         -10.145739    -11.630348    -12.943478    -13.668870   \n",
       "std        ...         164.652883    166.149790    168.554058    168.556486   \n",
       "min        ...       -1867.000000  -1865.000000  -1642.000000  -1723.000000   \n",
       "25%        ...         -55.000000    -56.000000    -56.000000    -56.000000   \n",
       "50%        ...          -9.000000    -10.000000    -10.000000    -10.000000   \n",
       "75%        ...          34.000000     34.000000     33.000000     33.000000   \n",
       "max        ...        1777.000000   1472.000000   1319.000000   1436.000000   \n",
       "\n",
       "               X174          X175          X176          X177          X178  \\\n",
       "count  11500.000000  11500.000000  11500.000000  11500.000000  11500.000000   \n",
       "mean     -13.363304    -13.045043    -12.705130    -12.426000    -12.195652   \n",
       "std      167.257290    164.241019    162.895832    162.886311    164.852015   \n",
       "min    -1866.000000  -1863.000000  -1781.000000  -1727.000000  -1829.000000   \n",
       "25%      -55.000000    -56.000000    -55.000000    -55.000000    -55.000000   \n",
       "50%      -10.000000     -9.000000     -9.000000     -9.000000     -9.000000   \n",
       "75%       34.000000     34.000000     34.000000     34.000000     34.000000   \n",
       "max     1733.000000   1958.000000   2047.000000   2047.000000   1915.000000   \n",
       "\n",
       "                  y  \n",
       "count  11500.000000  \n",
       "mean       3.000000  \n",
       "std        1.414275  \n",
       "min        1.000000  \n",
       "25%        2.000000  \n",
       "50%        3.000000  \n",
       "75%        4.000000  \n",
       "max        5.000000  \n",
       "\n",
       "[8 rows x 179 columns]"
      ]
     },
     "execution_count": 104,
     "metadata": {},
     "output_type": "execute_result"
    }
   ],
   "source": [
    "data.describe()\n",
    "# OBSERVATIONS based on the result\n",
    "# The values of all the attributes have a negative value and go from a  min of -1700 to + 1800"
   ]
  },
  {
   "cell_type": "code",
   "execution_count": 105,
   "metadata": {},
   "outputs": [
    {
     "data": {
      "image/png": "[encoded data removed]",
      "text/plain": [
       "<matplotlib.figure.Figure at 0x7f03397013d0>"
      ]
     },
     "metadata": {},
     "output_type": "display_data"
    }
   ],
   "source": [
    "_ = plt.hist(data[\"y\"])\n",
    "plt.xlabel(\"Categories\" )\n",
    "plt.ylabel(\"Count\" )\n",
    "plt.title(\"Count of Categories\")\n",
    "plt.xticks( np.arange(1,6,1), ('Epileptic', 'Non-Epileptic', 'Non-Epileptic', 'Non-Epileptic', 'Non-Epileptic') )\n",
    "plt.show()\n",
    "# OBSERVATIONS based on the result\n",
    "# All classes are equally distributed."
   ]
  },
  {
   "cell_type": "code",
   "execution_count": 106,
   "metadata": {},
   "outputs": [
    {
     "data": {
      "image/png": "[encoded data removed]",
      "text/plain": [
       "<matplotlib.figure.Figure at 0x7f033967b710>"
      ]
     },
     "metadata": {},
     "output_type": "display_data"
    }
   ],
   "source": [
    "#Box Plot by each attirbute and Group by Y class\n",
    "data.boxplot(column=\"X1\",by=\"y\",rot=90)\n",
    "plt.ylabel(\"Variable value\" )\n",
    "plt.xticks( np.arange(1,6,1), ('Epileptic', 'Non-Epileptic', 'Non-Epileptic', 'Non-Epileptic', 'Non-Epileptic') )\n",
    "plt.show()\n",
    "# OBSERVATIONS based on the result\n",
    "# Observations belonging to Class 1 have high variance."
   ]
  },
  {
   "cell_type": "code",
   "execution_count": 107,
   "metadata": {},
   "outputs": [
    {
     "data": {
      "image/png": "[encoded data removed]",
      "text/plain": [
       "<matplotlib.figure.Figure at 0x7f0339a9ad50>"
      ]
     },
     "metadata": {},
     "output_type": "display_data"
    }
   ],
   "source": [
    "# Check if variance is high for all attributes for class =1\n",
    "non_epi = data[data.y <> 1].describe().loc[\"std\"]\n",
    "epi = data[data.y == 1].describe().loc[\"std\"]\n",
    "non_epi.plot(label = \"Non Epliptec Cases\",legend = True)\n",
    "epi.plot(label = \"Epliptec Cases\",legend = True)\n",
    "plt.xlabel(\"Attributes\")\n",
    "plt.ylabel(\"Standard Deviation\")\n",
    "plt.title (\"Standard deviation of the different attributes by class label\")\n",
    "plt.show()\n",
    "# It can be clearly seen that Epliptec cases (Y=1) have a high variation across all attributes"
   ]
  },
  {
   "cell_type": "markdown",
   "metadata": {},
   "source": [
    "<h3> Applying Inferential Statistics </h3>"
   ]
  },
  {
   "cell_type": "code",
   "execution_count": 108,
   "metadata": {},
   "outputs": [
    {
     "name": "stdout",
     "output_type": "stream",
     "text": [
      "Variable:  X1 - 3112.30027523 - 0.0\n",
      "Variable:  X2 - 3032.77381341 - 0.0\n",
      "Variable:  X3 - 3310.59012934 - 0.0\n",
      "Variable:  X4 - 3217.65871884 - 0.0\n",
      "Variable:  X5 - 2838.20155894 - 0.0\n",
      "Variable:  X6 - 2710.01448354 - 0.0\n",
      "Variable:  X7 - 2785.06007387 - 0.0\n",
      "Variable:  X8 - 2903.43822722 - 0.0\n",
      "Variable:  X9 - 3320.69805312 - 0.0\n",
      "Variable:  X10 - 2833.34608787 - 0.0\n",
      "Variable:  X11 - 2832.13439422 - 0.0\n",
      "Variable:  X12 - 2717.11088045 - 0.0\n",
      "Variable:  X13 - 2953.86564122 - 0.0\n",
      "Variable:  X14 - 3901.98602712 - 0.0\n",
      "Variable:  X15 - 4408.03772292 - 0.0\n",
      "Variable:  X16 - 4556.91517421 - 0.0\n",
      "Variable:  X17 - 4134.36456123 - 0.0\n",
      "Variable:  X18 - 4011.30255389 - 0.0\n",
      "Variable:  X19 - 3484.44046223 - 0.0\n",
      "Variable:  X20 - 2975.27651021 - 0.0\n",
      "Variable:  X21 - 2770.24555184 - 0.0\n",
      "Variable:  X22 - 2996.68275136 - 0.0\n",
      "Variable:  X23 - 3086.04316202 - 0.0\n",
      "Variable:  X24 - 3057.35874661 - 0.0\n",
      "Variable:  X25 - 3328.38189817 - 0.0\n",
      "Variable:  X26 - 2934.97088285 - 0.0\n",
      "Variable:  X27 - 2848.54563307 - 0.0\n",
      "Variable:  X28 - 3260.9160023 - 0.0\n",
      "Variable:  X29 - 3658.49926318 - 0.0\n",
      "Variable:  X30 - 3941.85814961 - 0.0\n",
      "Variable:  X31 - 3595.09250175 - 0.0\n",
      "Variable:  X32 - 2937.56494885 - 0.0\n",
      "Variable:  X33 - 2760.90187471 - 0.0\n",
      "Variable:  X34 - 2966.36067176 - 0.0\n",
      "Variable:  X35 - 3195.85240618 - 0.0\n",
      "Variable:  X36 - 3414.19188923 - 0.0\n",
      "Variable:  X37 - 3726.79381341 - 0.0\n",
      "Variable:  X38 - 4179.65997516 - 0.0\n",
      "Variable:  X39 - 3789.1869987 - 0.0\n",
      "Variable:  X40 - 3280.40462512 - 0.0\n",
      "Variable:  X41 - 3120.72332781 - 0.0\n",
      "Variable:  X42 - 2739.98709776 - 0.0\n",
      "Variable:  X43 - 2586.18545941 - 0.0\n",
      "Variable:  X44 - 2948.5187213 - 0.0\n",
      "Variable:  X45 - 3817.17757572 - 0.0\n",
      "Variable:  X46 - 4237.37197892 - 0.0\n",
      "Variable:  X47 - 4183.27247487 - 0.0\n",
      "Variable:  X48 - 3873.02882269 - 0.0\n",
      "Variable:  X49 - 3864.08245333 - 0.0\n",
      "Variable:  X50 - 4112.37272159 - 0.0\n",
      "Variable:  X51 - 3758.61335489 - 0.0\n",
      "Variable:  X52 - 3414.58935876 - 0.0\n",
      "Variable:  X53 - 3310.22546722 - 0.0\n",
      "Variable:  X54 - 3263.53824109 - 0.0\n",
      "Variable:  X55 - 3104.37469157 - 0.0\n",
      "Variable:  X56 - 3490.23279758 - 0.0\n",
      "Variable:  X57 - 3640.26958088 - 0.0\n",
      "Variable:  X58 - 3995.51195175 - 0.0\n",
      "Variable:  X59 - 4399.48863894 - 0.0\n",
      "Variable:  X60 - 4623.57338556 - 0.0\n",
      "Variable:  X61 - 4370.96554798 - 0.0\n",
      "Variable:  X62 - 4067.85999955 - 0.0\n",
      "Variable:  X63 - 3517.76925525 - 0.0\n",
      "Variable:  X64 - 3366.3128401 - 0.0\n",
      "Variable:  X65 - 2928.25882073 - 0.0\n",
      "Variable:  X66 - 2661.86558983 - 0.0\n",
      "Variable:  X67 - 2800.89253336 - 0.0\n",
      "Variable:  X68 - 2652.10016524 - 0.0\n",
      "Variable:  X69 - 2650.10085748 - 0.0\n",
      "Variable:  X70 - 2915.78348301 - 0.0\n",
      "Variable:  X71 - 3228.9582454 - 0.0\n",
      "Variable:  X72 - 3088.31114223 - 0.0\n",
      "Variable:  X73 - 2948.88526467 - 0.0\n",
      "Variable:  X74 - 2795.64902644 - 0.0\n",
      "Variable:  X75 - 2869.04495066 - 0.0\n",
      "Variable:  X76 - 3161.42255814 - 0.0\n",
      "Variable:  X77 - 2894.21328097 - 0.0\n",
      "Variable:  X78 - 2821.40352354 - 0.0\n",
      "Variable:  X79 - 3168.87449368 - 0.0\n",
      "Variable:  X80 - 4369.65362449 - 0.0\n",
      "Variable:  X81 - 5045.17809923 - 0.0\n",
      "Variable:  X82 - 5360.93471286 - 0.0\n",
      "Variable:  X83 - 4614.48177666 - 0.0\n",
      "Variable:  X84 - 3435.43787566 - 0.0\n",
      "Variable:  X85 - 3231.67259338 - 0.0\n",
      "Variable:  X86 - 3122.04828306 - 0.0\n",
      "Variable:  X87 - 3195.31443821 - 0.0\n",
      "Variable:  X88 - 3272.79731362 - 0.0\n",
      "Variable:  X89 - 3423.37847683 - 0.0\n",
      "Variable:  X90 - 3454.25969159 - 0.0\n",
      "Variable:  X91 - 3303.6603736 - 0.0\n",
      "Variable:  X92 - 3366.41491833 - 0.0\n",
      "Variable:  X93 - 2968.85351684 - 0.0\n",
      "Variable:  X94 - 2853.28888773 - 0.0\n",
      "Variable:  X95 - 3239.12225291 - 0.0\n",
      "Variable:  X96 - 3201.91922089 - 0.0\n",
      "Variable:  X97 - 2736.22436937 - 0.0\n",
      "Variable:  X98 - 2741.65691838 - 0.0\n",
      "Variable:  X99 - 2816.88042368 - 0.0\n",
      "Variable:  X100 - 3614.17865266 - 0.0\n",
      "Variable:  X101 - 3956.40335041 - 0.0\n",
      "Variable:  X102 - 3494.93821163 - 0.0\n",
      "Variable:  X103 - 3384.48081236 - 0.0\n",
      "Variable:  X104 - 2971.06654933 - 0.0\n",
      "Variable:  X105 - 3092.96916454 - 0.0\n",
      "Variable:  X106 - 3654.45082992 - 0.0\n",
      "Variable:  X107 - 3871.09652979 - 0.0\n",
      "Variable:  X108 - 4177.98113687 - 0.0\n",
      "Variable:  X109 - 4405.51249608 - 0.0\n",
      "Variable:  X110 - 4108.7923048 - 0.0\n",
      "Variable:  X111 - 3660.48550711 - 0.0\n",
      "Variable:  X112 - 3203.72896054 - 0.0\n",
      "Variable:  X113 - 2862.1571897 - 0.0\n",
      "Variable:  X114 - 2877.27108964 - 0.0\n",
      "Variable:  X115 - 3204.11053501 - 0.0\n",
      "Variable:  X116 - 3553.19901974 - 0.0\n",
      "Variable:  X117 - 3415.82652628 - 0.0\n",
      "Variable:  X118 - 3225.81100593 - 0.0\n",
      "Variable:  X119 - 3023.25975884 - 0.0\n",
      "Variable:  X120 - 2790.44077781 - 0.0\n",
      "Variable:  X121 - 2686.90690475 - 0.0\n",
      "Variable:  X122 - 2792.75147853 - 0.0\n",
      "Variable:  X123 - 4001.12808313 - 0.0\n",
      "Variable:  X124 - 4630.09902408 - 0.0\n",
      "Variable:  X125 - 4147.03279487 - 0.0\n",
      "Variable:  X126 - 3917.63613714 - 0.0\n",
      "Variable:  X127 - 3781.46245013 - 0.0\n",
      "Variable:  X128 - 3680.85934168 - 0.0\n",
      "Variable:  X129 - 3681.13563051 - 0.0\n",
      "Variable:  X130 - 3007.71016233 - 0.0\n",
      "Variable:  X131 - 2574.00315639 - 0.0\n",
      "Variable:  X132 - 2853.48176625 - 0.0\n",
      "Variable:  X133 - 3148.43031357 - 0.0\n",
      "Variable:  X134 - 2913.23189637 - 0.0\n",
      "Variable:  X135 - 2936.59345272 - 0.0\n",
      "Variable:  X136 - 2952.77298432 - 0.0\n",
      "Variable:  X137 - 2975.67055405 - 0.0\n",
      "Variable:  X138 - 2919.07259128 - 0.0\n",
      "Variable:  X139 - 3173.14202966 - 0.0\n",
      "Variable:  X140 - 3005.6008579 - 0.0\n",
      "Variable:  X141 - 3024.12759846 - 0.0\n",
      "Variable:  X142 - 2990.68724553 - 0.0\n",
      "Variable:  X143 - 2892.18850472 - 0.0\n",
      "Variable:  X144 - 2876.93564501 - 0.0\n",
      "Variable:  X145 - 2932.51259056 - 0.0\n",
      "Variable:  X146 - 2873.34244156 - 0.0\n",
      "Variable:  X147 - 2830.33924818 - 0.0\n",
      "Variable:  X148 - 2821.36500923 - 0.0\n",
      "Variable:  X149 - 2930.62039445 - 0.0\n",
      "Variable:  X150 - 3259.67806537 - 0.0\n",
      "Variable:  X151 - 3256.99171185 - 0.0\n",
      "Variable:  X152 - 2928.14736808 - 0.0\n",
      "Variable:  X153 - 2874.14774502 - 0.0\n",
      "Variable:  X154 - 3545.47055555 - 0.0\n",
      "Variable:  X155 - 3901.5453511 - 0.0\n",
      "Variable:  X156 - 3319.42394945 - 0.0\n",
      "Variable:  X157 - 3070.41164876 - 0.0\n",
      "Variable:  X158 - 2994.19748109 - 0.0\n",
      "Variable:  X159 - 2968.30945954 - 0.0\n",
      "Variable:  X160 - 3109.25061769 - 0.0\n",
      "Variable:  X161 - 3520.85474456 - 0.0\n",
      "Variable:  X162 - 3475.17591509 - 0.0\n",
      "Variable:  X163 - 3154.32923589 - 0.0\n",
      "Variable:  X164 - 3639.36269632 - 0.0\n",
      "Variable:  X165 - 3786.18253934 - 0.0\n",
      "Variable:  X166 - 3198.95367126 - 0.0\n",
      "Variable:  X167 - 3231.42654478 - 0.0\n",
      "Variable:  X168 - 3290.37998185 - 0.0\n",
      "Variable:  X169 - 3129.14445351 - 0.0\n",
      "Variable:  X170 - 3674.23095577 - 0.0\n",
      "Variable:  X171 - 4367.4863119 - 0.0\n",
      "Variable:  X172 - 4084.08284169 - 0.0\n",
      "Variable:  X173 - 3745.2524954 - 0.0\n",
      "Variable:  X174 - 3615.32493656 - 0.0\n",
      "Variable:  X175 - 3564.71938524 - 0.0\n",
      "Variable:  X176 - 3669.85192306 - 0.0\n",
      "Variable:  X177 - 3285.23803839 - 0.0\n",
      "Variable:  X178 - 3152.67054486 - 0.0\n"
     ]
    }
   ],
   "source": [
    "# Check if the  independent attributes are normally distributed\n",
    "data_independent = data.drop(\"y\", axis=1)\n",
    "for col in data_independent:\n",
    "    statistic, p_value = stats.normaltest(data_independent[col])\n",
    "    print \"Variable: \", col , \"-\", statistic, \"-\" , p_value\n",
    "\n",
    "# None of the attributes are normally distirbuted."
   ]
  },
  {
   "cell_type": "code",
   "execution_count": 109,
   "metadata": {},
   "outputs": [
    {
     "data": {
      "image/png": "[encoded data removed]",
      "text/plain": [
       "<matplotlib.figure.Figure at 0x7f033a647150>"
      ]
     },
     "metadata": {},
     "output_type": "display_data"
    }
   ],
   "source": [
    "# Let us plot a histogram of one attributes.\n",
    "_ = data_independent[\"X1\"].plot(kind=\"hist\",bins=100)\n",
    "# Visually the variable looks normally distributed. However there is a high amount of kurtosis."
   ]
  },
  {
   "cell_type": "code",
   "execution_count": 110,
   "metadata": {},
   "outputs": [
    {
     "data": {
      "image/png": "[encoded data removed]",
      "text/plain": [
       "<matplotlib.figure.Figure at 0x7f033a4b5b90>"
      ]
     },
     "metadata": {},
     "output_type": "display_data"
    }
   ],
   "source": [
    "# Let us do a QQ Plot\n",
    "stats.probplot(data_independent[\"X1\"], dist='norm', plot=plt)\n",
    "plt.xlabel('Quantiles')\n",
    "plt.ylabel('X1')\n",
    "plt.title (\"Quantile- Quantile Plot of one Attribute\")\n",
    "plt.show()\n",
    "# TODO: 4th movement- Kurtosis.\n",
    "# TODO: try to find what the variables stand for."
   ]
  },
  {
   "cell_type": "code",
   "execution_count": 111,
   "metadata": {},
   "outputs": [
    {
     "name": "stdout",
     "output_type": "stream",
     "text": [
      "X1  -  19.0611932036\n",
      "X2  -  18.2928199553\n",
      "X3  -  18.4027045409\n",
      "X4  -  18.3769456378\n",
      "X5  -  17.737606333\n",
      "X6  -  18.3765345279\n",
      "X7  -  19.1466644963\n",
      "X8  -  20.7219836039\n",
      "X9  -  22.8007796461\n",
      "X10  -  20.1583467644\n",
      "X11  -  17.6858338111\n",
      "X12  -  17.3692749103\n",
      "X13  -  19.4135608448\n",
      "X14  -  22.090855244\n",
      "X15  -  22.9274403265\n",
      "X16  -  22.8074264548\n",
      "X17  -  20.8352582311\n",
      "X18  -  20.8715695295\n",
      "X19  -  18.8811750657\n",
      "X20  -  17.3756786664\n",
      "X21  -  17.0493219511\n",
      "X22  -  19.2158155236\n",
      "X23  -  20.8540517853\n",
      "X24  -  20.1661167802\n",
      "X25  -  21.5771945661\n",
      "X26  -  19.296372085\n",
      "X27  -  18.49559505\n",
      "X28  -  19.5204268059\n",
      "X29  -  20.7793757117\n",
      "X30  -  22.32738138\n",
      "X31  -  19.505150502\n",
      "X32  -  16.5276615262\n",
      "X33  -  16.1688666611\n",
      "X34  -  17.1686369135\n",
      "X35  -  17.6148107281\n",
      "X36  -  17.5672818933\n",
      "X37  -  18.0750246169\n",
      "X38  -  19.0528679236\n",
      "X39  -  18.0493164228\n",
      "X40  -  16.3397856751\n",
      "X41  -  16.2224997688\n",
      "X42  -  16.6449990291\n",
      "X43  -  16.0892207338\n",
      "X44  -  18.3181237333\n",
      "X45  -  20.7478071686\n",
      "X46  -  21.738939484\n",
      "X47  -  22.2827176769\n",
      "X48  -  23.6136524331\n",
      "X49  -  23.1606854214\n",
      "X50  -  24.8888218968\n",
      "X51  -  24.4519674453\n",
      "X52  -  22.6384831255\n",
      "X53  -  21.4921735494\n",
      "X54  -  20.8568914698\n",
      "X55  -  20.4246763199\n",
      "X56  -  22.1228388652\n",
      "X57  -  22.4020641928\n",
      "X58  -  24.0297335098\n",
      "X59  -  23.51144316\n",
      "X60  -  22.6066067507\n",
      "X61  -  21.0655583894\n",
      "X62  -  19.8788304859\n",
      "X63  -  18.0291182472\n",
      "X64  -  19.1764945519\n",
      "X65  -  18.6625285394\n",
      "X66  -  16.9722485724\n",
      "X67  -  17.8954804551\n",
      "X68  -  16.9975613198\n",
      "X69  -  17.0186525377\n",
      "X70  -  18.0673180964\n",
      "X71  -  19.3786465926\n",
      "X72  -  19.842641549\n",
      "X73  -  19.0895445272\n",
      "X74  -  18.7994640474\n",
      "X75  -  19.4028204271\n",
      "X76  -  20.8763297761\n",
      "X77  -  19.7073117574\n",
      "X78  -  20.153304655\n",
      "X79  -  22.874784257\n",
      "X80  -  25.770500366\n",
      "X81  -  26.9490610431\n",
      "X82  -  27.0130878803\n",
      "X83  -  23.9161883381\n",
      "X84  -  20.0029674289\n",
      "X85  -  18.7307377266\n",
      "X86  -  17.9219513955\n",
      "X87  -  18.7032727229\n",
      "X88  -  19.391271096\n",
      "X89  -  19.0198115657\n",
      "X90  -  18.7113398613\n",
      "X91  -  17.2752537632\n",
      "X92  -  18.2431478198\n",
      "X93  -  18.0045189332\n",
      "X94  -  18.1414236669\n",
      "X95  -  19.8146672088\n",
      "X96  -  20.548320376\n",
      "X97  -  18.3605619711\n",
      "X98  -  18.8413674781\n",
      "X99  -  18.5187266185\n",
      "X100  -  20.3388804809\n",
      "X101  -  21.8027857009\n",
      "X102  -  21.4009367835\n",
      "X103  -  22.8941194487\n",
      "X104  -  19.6089829795\n",
      "X105  -  18.8197658783\n",
      "X106  -  18.8729808519\n",
      "X107  -  18.6379866676\n",
      "X108  -  19.9306817415\n",
      "X109  -  20.3821068439\n",
      "X110  -  19.71034822\n",
      "X111  -  18.6695769312\n",
      "X112  -  18.7240256967\n",
      "X113  -  19.3851313514\n",
      "X114  -  19.7508711273\n",
      "X115  -  20.7377056352\n",
      "X116  -  21.8070935551\n",
      "X117  -  21.5071250652\n",
      "X118  -  22.350472686\n",
      "X119  -  22.0537891977\n",
      "X120  -  19.6682559265\n",
      "X121  -  17.1400425145\n",
      "X122  -  18.3044432202\n",
      "X123  -  21.0169397316\n",
      "X124  -  21.3046371648\n",
      "X125  -  19.1014865404\n",
      "X126  -  18.3173475316\n",
      "X127  -  17.1044783037\n",
      "X128  -  18.1502088787\n",
      "X129  -  20.461463217\n",
      "X130  -  18.0542857716\n",
      "X131  -  16.3209356253\n",
      "X132  -  20.0703643686\n",
      "X133  -  22.9803533658\n",
      "X134  -  21.8481510869\n",
      "X135  -  22.3272291329\n",
      "X136  -  22.0775966847\n",
      "X137  -  20.7581913407\n",
      "X138  -  21.7300820417\n",
      "X139  -  22.2279502901\n",
      "X140  -  21.203850064\n",
      "X141  -  21.750963323\n",
      "X142  -  22.7410526631\n",
      "X143  -  21.4126455599\n",
      "X144  -  21.114296076\n",
      "X145  -  21.9202996119\n",
      "X146  -  21.1061337952\n",
      "X147  -  20.0241847069\n",
      "X148  -  20.1107856101\n",
      "X149  -  19.8267365841\n",
      "X150  -  20.1301099213\n",
      "X151  -  19.7187890681\n",
      "X152  -  19.269987109\n",
      "X153  -  19.379819135\n",
      "X154  -  22.9368275176\n",
      "X155  -  24.4279208422\n",
      "X156  -  20.9883281567\n",
      "X157  -  19.3942287667\n",
      "X158  -  19.0379423619\n",
      "X159  -  19.1495400755\n",
      "X160  -  19.8609087563\n",
      "X161  -  21.103218314\n",
      "X162  -  21.0784811435\n",
      "X163  -  19.5430299591\n",
      "X164  -  21.3281387413\n",
      "X165  -  21.7733545664\n",
      "X166  -  19.8168809629\n",
      "X167  -  20.6830146701\n",
      "X168  -  20.8913929231\n",
      "X169  -  20.8778608286\n",
      "X170  -  22.604920248\n",
      "X171  -  22.6473043235\n",
      "X172  -  18.5894762487\n",
      "X173  -  17.5863147036\n",
      "X174  -  18.4120436481\n",
      "X175  -  19.6326026919\n",
      "X176  -  21.6388975196\n",
      "X177  -  20.1919664356\n",
      "X178  -  19.0141232212\n"
     ]
    }
   ],
   "source": [
    "# Calculate Kurtosis\n",
    "for col1 in data_independent:\n",
    "    print col1,\" - \",stats.kurtosis(data_independent[col1])"
   ]
  },
  {
   "cell_type": "code",
   "execution_count": 112,
   "metadata": {},
   "outputs": [
    {
     "name": "stdout",
     "output_type": "stream",
     "text": [
      "X1  -  X2  - : 0.947728563382\n",
      "X1  -  X3  - : 0.808191568857\n",
      "X2  -  X3  - : 0.944622619007\n",
      "X3  -  X4  - : 0.939521899995\n",
      "X4  -  X5  - : 0.938635772132\n",
      "X5  -  X6  - : 0.941266904074\n",
      "X6  -  X7  - : 0.942731943499\n",
      "X7  -  X8  - : 0.943499364474\n",
      "X7  -  X9  - : 0.804300313349\n",
      "X8  -  X9  - : 0.947479311107\n",
      "X8  -  X10  - : 0.810992233444\n",
      "X9  -  X10  - : 0.946728960851\n",
      "X9  -  X11  - : 0.802872225449\n",
      "X10  -  X11  - : 0.944024309668\n",
      "X11  -  X12  - : 0.940959320036\n",
      "X12  -  X13  - : 0.940121519252\n",
      "X13  -  X14  - : 0.946333474725\n",
      "X13  -  X15  - : 0.815994687737\n",
      "X14  -  X15  - : 0.950880274711\n",
      "X14  -  X16  - : 0.822775714107\n",
      "X15  -  X16  - : 0.949805416744\n",
      "X15  -  X17  - : 0.805523833956\n",
      "X16  -  X17  - : 0.940689621967\n",
      "X17  -  X18  - : 0.934157479615\n",
      "X18  -  X19  - : 0.935212968741\n",
      "X19  -  X20  - : 0.93953832407\n",
      "X20  -  X21  - : 0.936508809461\n",
      "X21  -  X22  - : 0.935541746408\n",
      "X22  -  X23  - : 0.937018025109\n",
      "X23  -  X24  - : 0.940775571325\n",
      "X24  -  X25  - : 0.938594073471\n",
      "X25  -  X26  - : 0.933712063024\n",
      "X26  -  X27  - : 0.931784359426\n",
      "X27  -  X28  - : 0.932635331378\n",
      "X28  -  X29  - : 0.939814431591\n",
      "X29  -  X30  - : 0.933384757498\n",
      "X30  -  X31  - : 0.930352946815\n",
      "X31  -  X32  - : 0.930995621072\n",
      "X32  -  X33  - : 0.93334351486\n",
      "X33  -  X34  - : 0.93558575735\n",
      "X34  -  X35  - : 0.932062758837\n",
      "X35  -  X36  - : 0.928738652244\n",
      "X36  -  X37  - : 0.931842225697\n",
      "X37  -  X38  - : 0.939382908417\n",
      "X38  -  X39  - : 0.94266943065\n",
      "X39  -  X40  - : 0.942196799446\n",
      "X40  -  X41  - : 0.940782492175\n",
      "X41  -  X42  - : 0.935882139982\n",
      "X42  -  X43  - : 0.932492442027\n",
      "X43  -  X44  - : 0.931826818838\n",
      "X44  -  X45  - : 0.934295623893\n",
      "X45  -  X46  - : 0.936309522805\n",
      "X46  -  X47  - : 0.937733207673\n",
      "X47  -  X48  - : 0.938927232348\n",
      "X48  -  X49  - : 0.94001067686\n",
      "X49  -  X50  - : 0.938751593679\n",
      "X50  -  X51  - : 0.932840510765\n",
      "X51  -  X52  - : 0.92880785495\n",
      "X52  -  X53  - : 0.932125211269\n",
      "X53  -  X54  - : 0.937735162318\n",
      "X54  -  X55  - : 0.94002784074\n",
      "X55  -  X56  - : 0.940933380818\n",
      "X56  -  X57  - : 0.93482815837\n",
      "X57  -  X58  - : 0.930708918276\n",
      "X58  -  X59  - : 0.930695758556\n",
      "X59  -  X60  - : 0.937394479828\n",
      "X60  -  X61  - : 0.943880624501\n",
      "X60  -  X62  - : 0.802156333668\n",
      "X61  -  X62  - : 0.944215178459\n",
      "X62  -  X63  - : 0.935949011447\n",
      "X63  -  X64  - : 0.932337698387\n",
      "X64  -  X65  - : 0.934516572928\n",
      "X65  -  X66  - : 0.942046497668\n",
      "X66  -  X67  - : 0.940738558021\n",
      "X67  -  X68  - : 0.93765169985\n",
      "X68  -  X69  - : 0.934655462586\n",
      "X69  -  X70  - : 0.93716500695\n",
      "X70  -  X71  - : 0.941524020218\n",
      "X71  -  X72  - : 0.943011108272\n",
      "X71  -  X73  - : 0.801093925447\n",
      "X72  -  X73  - : 0.94571365532\n",
      "X73  -  X74  - : 0.936275104683\n",
      "X74  -  X75  - : 0.932239194001\n",
      "X75  -  X76  - : 0.9371958464\n",
      "X76  -  X77  - : 0.942705226416\n",
      "X77  -  X78  - : 0.939922477704\n",
      "X78  -  X79  - : 0.935530121722\n",
      "X79  -  X80  - : 0.931548097328\n",
      "X80  -  X81  - : 0.935156564589\n",
      "X81  -  X82  - : 0.942907981303\n",
      "X82  -  X83  - : 0.938589437334\n",
      "X83  -  X84  - : 0.931595144173\n",
      "X84  -  X85  - : 0.926157450297\n",
      "X85  -  X86  - : 0.928396782329\n",
      "X86  -  X87  - : 0.936772560806\n",
      "X87  -  X88  - : 0.942568879297\n",
      "X88  -  X89  - : 0.937777583407\n",
      "X89  -  X90  - : 0.932759073228\n",
      "X90  -  X91  - : 0.934751732776\n",
      "X91  -  X92  - : 0.938837493649\n",
      "X92  -  X93  - : 0.936792045292\n",
      "X93  -  X94  - : 0.931707243247\n",
      "X94  -  X95  - : 0.931394805521\n",
      "X95  -  X96  - : 0.936831499827\n",
      "X96  -  X97  - : 0.940629284903\n",
      "X97  -  X98  - : 0.938500852535\n",
      "X98  -  X99  - : 0.934881191785\n",
      "X99  -  X100  - : 0.932834551115\n",
      "X100  -  X101  - : 0.93805614337\n",
      "X101  -  X102  - : 0.942301238418\n",
      "X102  -  X103  - : 0.938759976833\n",
      "X103  -  X104  - : 0.929414976255\n",
      "X104  -  X105  - : 0.92948768038\n",
      "X105  -  X106  - : 0.9351788991\n",
      "X106  -  X107  - : 0.932718248181\n",
      "X107  -  X108  - : 0.92998763541\n",
      "X108  -  X109  - : 0.931863076581\n",
      "X109  -  X110  - : 0.939003598458\n",
      "X110  -  X111  - : 0.942892848123\n",
      "X111  -  X112  - : 0.944071102827\n",
      "X112  -  X113  - : 0.934000371145\n",
      "X113  -  X114  - : 0.932483869122\n",
      "X114  -  X115  - : 0.944863626879\n",
      "X114  -  X116  - : 0.808786653805\n",
      "X115  -  X116  - : 0.948074285218\n",
      "X115  -  X117  - : 0.804232947726\n",
      "X116  -  X117  - : 0.941915197497\n",
      "X117  -  X118  - : 0.935825063168\n",
      "X118  -  X119  - : 0.940916590409\n",
      "X119  -  X120  - : 0.943327742954\n",
      "X120  -  X121  - : 0.93548242856\n",
      "X121  -  X122  - : 0.925921089012\n",
      "X122  -  X123  - : 0.935687128087\n",
      "X123  -  X124  - : 0.94703191676\n",
      "X123  -  X125  - : 0.81167509781\n",
      "X124  -  X125  - : 0.94727712544\n",
      "X125  -  X126  - : 0.936664686326\n",
      "X126  -  X127  - : 0.936870270075\n",
      "X127  -  X128  - : 0.94063437598\n",
      "X128  -  X129  - : 0.942135087119\n",
      "X129  -  X130  - : 0.939708029969\n",
      "X130  -  X131  - : 0.931876289375\n",
      "X131  -  X132  - : 0.93291370654\n",
      "X132  -  X133  - : 0.933850638501\n",
      "X133  -  X134  - : 0.935035822978\n",
      "X134  -  X135  - : 0.936169950837\n",
      "X135  -  X136  - : 0.939548255082\n",
      "X136  -  X137  - : 0.938700265616\n",
      "X137  -  X138  - : 0.937900173307\n",
      "X138  -  X139  - : 0.94158983125\n",
      "X139  -  X140  - : 0.941401033283\n",
      "X140  -  X141  - : 0.941340217347\n",
      "X141  -  X142  - : 0.937826895412\n",
      "X142  -  X143  - : 0.936883205074\n",
      "X143  -  X144  - : 0.935504846429\n",
      "X144  -  X145  - : 0.941272238895\n",
      "X145  -  X146  - : 0.941394174484\n",
      "X146  -  X147  - : 0.939137911869\n",
      "X147  -  X148  - : 0.932981690821\n",
      "X148  -  X149  - : 0.935227291517\n",
      "X149  -  X150  - : 0.936900688867\n",
      "X150  -  X151  - : 0.938895060488\n",
      "X151  -  X152  - : 0.93404613527\n",
      "X152  -  X153  - : 0.924746111086\n",
      "X153  -  X154  - : 0.928101613133\n",
      "X154  -  X155  - : 0.937550795252\n",
      "X155  -  X156  - : 0.939220601463\n",
      "X156  -  X157  - : 0.934041797629\n",
      "X157  -  X158  - : 0.935329470907\n",
      "X158  -  X159  - : 0.93876463654\n",
      "X159  -  X160  - : 0.940572783053\n",
      "X160  -  X161  - : 0.938730987253\n",
      "X161  -  X162  - : 0.933887521544\n",
      "X162  -  X163  - : 0.926632597335\n",
      "X163  -  X164  - : 0.927786394323\n",
      "X164  -  X165  - : 0.931612413509\n",
      "X165  -  X166  - : 0.930451332954\n",
      "X166  -  X167  - : 0.929265776107\n",
      "X167  -  X168  - : 0.931369312394\n",
      "X168  -  X169  - : 0.92901439312\n",
      "X169  -  X170  - : 0.92640427807\n",
      "X170  -  X171  - : 0.928485665719\n",
      "X171  -  X172  - : 0.936301910812\n",
      "X172  -  X173  - : 0.937569868393\n",
      "X173  -  X174  - : 0.940679287701\n",
      "X174  -  X175  - : 0.936985656095\n",
      "X175  -  X176  - : 0.933893379571\n",
      "X176  -  X177  - : 0.931826033061\n",
      "X177  -  X178  - : 0.934329861168\n"
     ]
    }
   ],
   "source": [
    "# Check for corelation between  independent attributes\n",
    "checked_cols =[]\n",
    "df_corr=data_independent.corr()\n",
    "for idx in df_corr.index:\n",
    "    for col in df_corr:\n",
    "        if idx <> col :\n",
    "            if not(idx+\"-\"+col in checked_cols):\n",
    "                checked_cols.append(col+\"-\"+idx)\n",
    "                corr=df_corr[idx][col]\n",
    "                if corr >0.8 :\n",
    "                    print idx,\" - \",col , \" - :\" , corr"
   ]
  },
  {
   "cell_type": "markdown",
   "metadata": {},
   "source": [
    "There is a high degree of corelation between the variables. "
   ]
  },
  {
   "cell_type": "code",
   "execution_count": 113,
   "metadata": {},
   "outputs": [
    {
     "data": {
      "text/plain": [
       "2    9200\n",
       "1    2300\n",
       "Name: y, dtype: int64"
      ]
     },
     "execution_count": 113,
     "metadata": {},
     "output_type": "execute_result"
    }
   ],
   "source": [
    "# Replace the labels 3,4,5 with 2\n",
    "y = data.y.replace(3,2).replace(4,2).replace(5,2)\n",
    "y.value_counts()"
   ]
  },
  {
   "cell_type": "markdown",
   "metadata": {},
   "source": [
    "<div class=\"span6 alert alert-info\">\n",
    "The class labels are 1, 2, 3, 4, 5. Class 2 , 3, 4, 5 are non-epliptec patients. Combining them into one class creates class imbalance. For now we will go ahead and run the regression. Later on we will fix the class imbalance\n",
    "</div>"
   ]
  },
  {
   "cell_type": "code",
   "execution_count": 132,
   "metadata": {
    "collapsed": true
   },
   "outputs": [],
   "source": [
    "# Create a Train and Test set. The test set is 25 % of the data.\n",
    "X_train, X_test, y_train, y_test = train_test_split(data_independent, y,\\\n",
    "                                                    test_size = 0.25, random_state=42)"
   ]
  },
  {
   "cell_type": "code",
   "execution_count": 133,
   "metadata": {
    "collapsed": true
   },
   "outputs": [],
   "source": [
    "#Perform simple logistic regression\n",
    "lr = LogisticRegression()\n",
    "lr.fit(X_train,y_train)\n",
    "y_pred = lr.predict(X_test)"
   ]
  },
  {
   "cell_type": "code",
   "execution_count": 134,
   "metadata": {},
   "outputs": [
    {
     "name": "stdout",
     "output_type": "stream",
     "text": [
      "AUC: 0.513526684716\n"
     ]
    },
    {
     "data": {
      "image/png": "[encoded data removed]",
      "text/plain": [
       "<matplotlib.figure.Figure at 0x7f033a586810>"
      ]
     },
     "metadata": {},
     "output_type": "display_data"
    }
   ],
   "source": [
    "# Compute predicted probabilities: y_pred_prob\n",
    "y_pred_prob = lr.predict_proba(X_test)[:,1]\n",
    "\n",
    "# Generate ROC curve values: fpr, tpr, thresholds\n",
    "fpr, tpr, thresholds = roc_curve(y_test, y_pred_prob, pos_label=2)\n",
    "print \"AUC:\", auc(fpr,tpr)\n",
    "\n",
    "# Plot ROC curve\n",
    "plt.plot([0, 1], [0, 1], 'k--')\n",
    "plt.plot(fpr, tpr)\n",
    "plt.annotate(\"AUC:\" + str(auc(fpr,tpr)),[0.2,0.8])\n",
    "plt.xlabel('False Positive Rate')\n",
    "plt.ylabel('True Positive Rate')\n",
    "plt.title('ROC Curve')\n",
    "plt.show()"
   ]
  },
  {
   "cell_type": "code",
   "execution_count": 117,
   "metadata": {
    "collapsed": true
   },
   "outputs": [],
   "source": [
    "#Perfrom classification using Random Forest classifier\n",
    "rf = RandomForestClassifier()\n",
    "rf.fit(X_train,y_train)\n",
    "y_pred = rf.predict(X_test)"
   ]
  },
  {
   "cell_type": "code",
   "execution_count": 135,
   "metadata": {},
   "outputs": [
    {
     "name": "stdout",
     "output_type": "stream",
     "text": [
      "AUC: 0.991418981567\n"
     ]
    },
    {
     "data": {
      "image/png": "[encoded data removed]",
      "text/plain": [
       "<matplotlib.figure.Figure at 0x7f0335494790>"
      ]
     },
     "metadata": {},
     "output_type": "display_data"
    }
   ],
   "source": [
    "# Compute predicted probabilities: y_pred_prob\n",
    "y_pred_prob = rf.predict_proba(X_test)[:,1]\n",
    "\n",
    "# Generate ROC curve values: fpr, tpr, thresholds\n",
    "fpr, tpr, thresholds = roc_curve(y_test, y_pred_prob, pos_label=2)\n",
    "print \"AUC:\", auc(fpr,tpr)\n",
    "\n",
    "# Plot ROC curve\n",
    "plt.plot([0, 1], [0, 1], 'k--')\n",
    "plt.plot(fpr, tpr)\n",
    "plt.annotate(\"AUC:\" + str(auc(fpr,tpr)),[0.2,0.8])\n",
    "plt.xlabel('False Positive Rate')\n",
    "plt.ylabel('True Positive Rate')\n",
    "plt.title('ROC Curve')\n",
    "plt.show()"
   ]
  },
  {
   "cell_type": "code",
   "execution_count": 119,
   "metadata": {},
   "outputs": [
    {
     "name": "stdout",
     "output_type": "stream",
     "text": [
      "Score: 0.967652173913 \n",
      "\n",
      "\n",
      "Confusion Matrix:\n",
      "     0     1\n",
      "0  553    37\n",
      "1   56  2229 \n",
      "\n",
      "\n",
      "Classification Report:\n",
      "             precision    recall  f1-score   support\n",
      "\n",
      "          1       0.91      0.94      0.92       590\n",
      "          2       0.98      0.98      0.98      2285\n",
      "\n",
      "avg / total       0.97      0.97      0.97      2875\n",
      "\n",
      "\n",
      "\n"
     ]
    }
   ],
   "source": [
    "#Generate accuracy metrics for RandomForest classfier\n",
    "print \"Score:\", rf.score(X_test,y_test) , \"\\n\\n\"\n",
    "print \"Confusion Matrix:\\n\" , pd.DataFrame(confusion_matrix(y_test, y_pred)), \"\\n\\n\"\n",
    "print \"Classification Report:\\n\", classification_report(y_test, y_pred), \"\\n\\n\""
   ]
  },
  {
   "cell_type": "markdown",
   "metadata": {},
   "source": [
    "<div class=\"span6 alert alert-info\">\n",
    "Logistic regression is a poor classifier (Area Under curver is 0.51). In comparision the Random Forest classifier has a better performance with AUC of 0.96. The Precision and re-call are also good.\n",
    "\n",
    "Let us remove the corelation between the independent variables and reduce the number of independent variables by performing a PCA and then re-run our models.\n",
    "<div>"
   ]
  },
  {
   "cell_type": "code",
   "execution_count": 120,
   "metadata": {},
   "outputs": [
    {
     "data": {
      "image/png": "[encoded data removed]",
      "text/plain": [
       "<matplotlib.figure.Figure at 0x7f03394976d0>"
      ]
     },
     "metadata": {},
     "output_type": "display_data"
    }
   ],
   "source": [
    "# Perform PCA on the dataset and plot the variance\n",
    "from sklearn.decomposition import PCA\n",
    "ind_array = np.array(data_independent)\n",
    "pca = PCA()\n",
    "pca.fit_transform(ind_array)     \n",
    "features = range(pca.n_components_)\n",
    "plt.figure(figsize=(40,10))\n",
    "plt.bar(features[0:50], pca.explained_variance_ratio_[0:50])\n",
    "plt.title(\" PCA Feature vs Variance\")\n",
    "plt.xlabel('PCA feature')\n",
    "plt.ylabel('Variance')\n",
    "plt.xticks(features[0:50], rotation=90)\n",
    "plt.tight_layout()\n",
    "plt.show()"
   ]
  },
  {
   "cell_type": "code",
   "execution_count": 121,
   "metadata": {},
   "outputs": [
    {
     "data": {
      "image/png": "[encoded data removed]",
      "text/plain": [
       "<matplotlib.figure.Figure at 0x7f033b261b90>"
      ]
     },
     "metadata": {},
     "output_type": "display_data"
    }
   ],
   "source": [
    "# Let us choose PCA with 2 components and visualize the data\n",
    "pca = PCA(n_components=2) \n",
    "pca.fit(ind_array)\n",
    "pca_X = pca.transform(data_independent)\n",
    "plt.scatter(pca_X[:,0],pca_X[:,1], cmap=\"coolwarm\" , c=y , alpha=0.5)\n",
    "plt.title (\"Scatter Plot of data after reducing it to two components\")\n",
    "plt.show ()"
   ]
  },
  {
   "cell_type": "markdown",
   "metadata": {},
   "source": [
    "<div class=\"span6 alert alert-info\">\n",
    "When we try to reduce the data set to 2 components, there is no clear boundary and hence Logistic regression may not be a optimum classifier. <br>\n",
    "Let us go ahead and remove the imbalance in the classes by oversampling.\n",
    "Reduce the components to 20 and run the above two models.\n",
    "<div>"
   ]
  },
  {
   "cell_type": "code",
   "execution_count": 122,
   "metadata": {},
   "outputs": [
    {
     "name": "stdout",
     "output_type": "stream",
     "text": [
      "Class values prior to over sampling: [(1, 2300), (2, 9200)]\n",
      "Class values prior to after over sampling: [(1, 9200), (2, 9200)]\n"
     ]
    }
   ],
   "source": [
    "# we use imlearn module to do over sampling\n",
    "from imblearn.over_sampling import RandomOverSampler\n",
    "ros = RandomOverSampler(random_state=0)\n",
    "print \"Class values prior to over sampling:\", sorted(Counter(y).items())\n",
    "X_resampled, y_resampled = ros.fit_sample(data_independent, y)\n",
    "print \"Class values prior to after over sampling:\", (sorted(Counter(y_resampled).items())) "
   ]
  },
  {
   "cell_type": "code",
   "execution_count": 123,
   "metadata": {
    "collapsed": true
   },
   "outputs": [],
   "source": [
    "ind_array = np.array(X_resampled)\n",
    "pca = PCA(n_components=20) # Let us choose PCA with 20 components\n",
    "pca.fit(ind_array)\n",
    "pca_X = pca.transform(X_resampled)"
   ]
  },
  {
   "cell_type": "code",
   "execution_count": 136,
   "metadata": {},
   "outputs": [],
   "source": [
    "X_train, X_test, y_train, y_test = train_test_split(pca_X, y_resampled,\\\n",
    "                                                    test_size = 0.25, random_state=42)"
   ]
  },
  {
   "cell_type": "code",
   "execution_count": 125,
   "metadata": {
    "collapsed": true
   },
   "outputs": [],
   "source": [
    "#Perform Logistic regression on the dataset reduced to 20 variables\n",
    "lr = LogisticRegression()\n",
    "lr.fit(X_train,y_train)\n",
    "y_pred = lr.predict(X_test)"
   ]
  },
  {
   "cell_type": "code",
   "execution_count": 130,
   "metadata": {},
   "outputs": [
    {
     "name": "stdout",
     "output_type": "stream",
     "text": [
      "AUC: 0.533301382488\n"
     ]
    },
    {
     "data": {
      "image/png": "[encoded data removed]",
      "text/plain": [
       "<matplotlib.figure.Figure at 0x7f033b0840d0>"
      ]
     },
     "metadata": {},
     "output_type": "display_data"
    }
   ],
   "source": [
    "# Compute predicted probabilities: y_pred_prob\n",
    "y_pred_prob = lr.predict_proba(X_test)[:,1]\n",
    "\n",
    "# Generate ROC curve values: fpr, tpr, thresholds\n",
    "fpr, tpr, thresholds = roc_curve(y_test, y_pred_prob, pos_label=2)\n",
    "print \"AUC:\", auc(fpr,tpr)\n",
    "\n",
    "# Plot ROC curve\n",
    "plt.plot([0, 1], [0, 1], 'k--')\n",
    "plt.plot(fpr, tpr)\n",
    "plt.annotate(\"AUC:\" + str(auc(fpr,tpr)),[0.2,0.8])\n",
    "plt.xlabel('False Positive Rate')\n",
    "plt.ylabel('True Positive Rate')\n",
    "plt.title('ROC Curve')\n",
    "plt.show()"
   ]
  },
  {
   "cell_type": "code",
   "execution_count": 137,
   "metadata": {
    "collapsed": true
   },
   "outputs": [],
   "source": [
    "#Perform RandomForest  on the dataset reduced to 20 variables\n",
    "rf = RandomForestClassifier()\n",
    "rf.fit(X_train,y_train)\n",
    "y_pred = rf.predict(X_test)"
   ]
  },
  {
   "cell_type": "code",
   "execution_count": 138,
   "metadata": {},
   "outputs": [
    {
     "name": "stdout",
     "output_type": "stream",
     "text": [
      "AUC: 0.998060734964\n"
     ]
    },
    {
     "data": {
      "image/png": "[encoded data removed]",
      "text/plain": [
       "<matplotlib.figure.Figure at 0x7f033afddf50>"
      ]
     },
     "metadata": {},
     "output_type": "display_data"
    }
   ],
   "source": [
    "# Compute predicted probabilities: y_pred_prob\n",
    "y_pred_prob = rf.predict_proba(X_test)[:,1]\n",
    "\n",
    "# Generate ROC curve values: fpr, tpr, thresholds\n",
    "fpr, tpr, thresholds = roc_curve(y_test, y_pred_prob, pos_label=2)\n",
    "print \"AUC:\", auc(fpr,tpr)\n",
    "\n",
    "# Plot ROC curve\n",
    "plt.plot([0, 1], [0, 1], 'k--')\n",
    "plt.plot(fpr, tpr)\n",
    "plt.annotate(\"AUC:\" + str(auc(fpr,tpr)),[0.2,0.8])\n",
    "plt.xlabel('False Positive Rate')\n",
    "plt.ylabel('True Positive Rate')\n",
    "plt.title('ROC Curve')\n",
    "plt.show()"
   ]
  },
  {
   "cell_type": "code",
   "execution_count": 59,
   "metadata": {},
   "outputs": [
    {
     "name": "stdout",
     "output_type": "stream",
     "text": [
      "Score: 0.979565217391 \n",
      "\n",
      "\n",
      "Confusion Matrix:\n",
      "      0     1\n",
      "0  2267     8\n",
      "1    86  2239 \n",
      "\n",
      "\n",
      "Classification Report:\n",
      "             precision    recall  f1-score   support\n",
      "\n",
      "          1       0.96      1.00      0.98      2275\n",
      "          2       1.00      0.96      0.98      2325\n",
      "\n",
      "avg / total       0.98      0.98      0.98      4600\n",
      "\n",
      "\n",
      "\n"
     ]
    }
   ],
   "source": [
    "print \"Score:\", rf.score(X_test,y_test) , \"\\n\\n\"\n",
    "print \"Confusion Matrix:\\n\" , pd.DataFrame(confusion_matrix(y_test, y_pred)), \"\\n\\n\"\n",
    "print \"Classification Report:\\n\", classification_report(y_test, y_pred), \"\\n\\n\""
   ]
  },
  {
   "cell_type": "markdown",
   "metadata": {},
   "source": [
    "<div class=\"span6 alert alert-info\">\n",
    "There is slight imporvement in the Logistic regression AUC score (0.51 to 0.53). Similarly there is a slight improvement in the Random Forest classifier.\n",
    "</div>"
   ]
  },
  {
   "cell_type": "code",
   "execution_count": 90,
   "metadata": {},
   "outputs": [
    {
     "name": "stdout",
     "output_type": "stream",
     "text": [
      "n_components: 64\n",
      "C:  0.0001\n"
     ]
    }
   ],
   "source": [
    "X_train, X_test, y_train, y_test = train_test_split(X_resampled, y_resampled , \\\n",
    "                                                    test_size = 0.25, random_state=42)\n",
    "# Perfrom Grid search on the Hyper Parameters\n",
    "lr=LogisticRegression()\n",
    "pca=PCA()\n",
    "pipe = Pipeline(steps=[('pca', pca), ('lr', lr)])\n",
    "n_components = [20, 40, 64]\n",
    "Cs = np.logspace(-4, 4, 3)\n",
    "estimator = GridSearchCV(pipe,\n",
    "                         dict(pca__n_components=n_components,\n",
    "                              lr__C=Cs))\n",
    "estimator.fit(X_train,y_train)\n",
    "y_pred = estimator.predict(X_test)\n",
    "print \"n_components:\", estimator.best_estimator_.named_steps['pca'].n_components\n",
    "print \"C: \", estimator.best_estimator_.named_steps['lr'].C"
   ]
  },
  {
   "cell_type": "code",
   "execution_count": 62,
   "metadata": {},
   "outputs": [
    {
     "name": "stdout",
     "output_type": "stream",
     "text": [
      "Score: 0.6 \n",
      "\n",
      "\n",
      "Confusion Matrix:\n",
      "      0     1\n",
      "0  1133  1142\n",
      "1   698  1627 \n",
      "\n",
      "\n",
      "Classification Report:\n",
      "             precision    recall  f1-score   support\n",
      "\n",
      "          1       0.62      0.50      0.55      2275\n",
      "          2       0.59      0.70      0.64      2325\n",
      "\n",
      "avg / total       0.60      0.60      0.60      4600\n",
      "\n",
      "\n",
      "\n"
     ]
    }
   ],
   "source": [
    "print \"Score:\", estimator.score(X_test,y_test) , \"\\n\\n\"\n",
    "print \"Confusion Matrix:\\n\" , pd.DataFrame(confusion_matrix(y_test, y_pred)), \"\\n\\n\"\n",
    "print \"Classification Report:\\n\", classification_report(y_test, y_pred), \"\\n\\n\""
   ]
  },
  {
   "cell_type": "code",
   "execution_count": null,
   "metadata": {
    "collapsed": true
   },
   "outputs": [],
   "source": [
    "# Perfrom Grid search on the Hyper Parameters\n",
    "rf=RandomForestClassifier()\n",
    "pca=PCA()\n",
    "pipe = Pipeline(steps=[('pca', pca), ('rf', rf)])\n",
    "\n",
    "n_estimators = [10, 20, 30]\n",
    "max_depth = [None, 6, 8, 10]\n",
    "max_leaf_nodes = [None, 5, 10, 20]\n",
    "min_impurity_split =[0.1, 0.2, 0.3]\n",
    "\n",
    "estimator = GridSearchCV(pipe,\n",
    "                         dict(pca__n_components=n_components,\n",
    "                              rf__max_depth =max_depth,\n",
    "                              rf__n_estimators =n_estimators,\n",
    "                              rf__max_leaf_nodes = max_leaf_nodes,\n",
    "                              rf__min_impurity_split = min_impurity_split                            \n",
    "                             ))\n",
    "estimator.fit(X_train,y_train)\n",
    "y_pred = estimator.predict(X_test)"
   ]
  },
  {
   "cell_type": "code",
   "execution_count": 82,
   "metadata": {},
   "outputs": [
    {
     "name": "stdout",
     "output_type": "stream",
     "text": [
      "n_components :  64\n",
      "Max Depth : None\n",
      "Estimators : 30\n",
      "Max Leaf Nodes: None\n",
      "Min Impurity Split: 0.1\n"
     ]
    }
   ],
   "source": [
    "print \"n_components : \", estimator.best_estimator_.named_steps['pca'].n_components \n",
    "print \"Max Depth :\",estimator.best_estimator_.named_steps['rf'].max_depth \n",
    "print \"Estimators :\",estimator.best_estimator_.named_steps['rf'].n_estimators \n",
    "print \"Max Leaf Nodes:\",estimator.best_estimator_.named_steps['rf'].max_leaf_nodes \n",
    "print \"Min Impurity Split:\", estimator.best_estimator_.named_steps['rf'].min_impurity_split "
   ]
  },
  {
   "cell_type": "code",
   "execution_count": 65,
   "metadata": {
    "scrolled": true
   },
   "outputs": [
    {
     "name": "stdout",
     "output_type": "stream",
     "text": [
      "Score: 0.981086956522 \n",
      "\n",
      "\n",
      "Confusion Matrix:\n",
      "      0     1\n",
      "0  2244    31\n",
      "1    56  2269 \n",
      "\n",
      "\n",
      "Classification Report:\n",
      "             precision    recall  f1-score   support\n",
      "\n",
      "          1       0.98      0.99      0.98      2275\n",
      "          2       0.99      0.98      0.98      2325\n",
      "\n",
      "avg / total       0.98      0.98      0.98      4600\n",
      "\n",
      "\n",
      "\n"
     ]
    }
   ],
   "source": [
    "print \"Score:\", estimator.score(X_test,y_test) , \"\\n\\n\"\n",
    "print \"Confusion Matrix:\\n\" , pd.DataFrame(confusion_matrix(y_test, y_pred)), \"\\n\\n\"\n",
    "print \"Classification Report:\\n\", classification_report(y_test, y_pred), \"\\n\\n\""
   ]
  },
  {
   "cell_type": "code",
   "execution_count": 66,
   "metadata": {
    "collapsed": true
   },
   "outputs": [],
   "source": [
    "# Export the model.\n",
    "import pickle\n",
    "model_file=open(\"./epi.pk\",\"wb\") \n",
    "pickle.dump(estimator,model_file)\n",
    "model_file.close()"
   ]
  }
 ],
 "metadata": {
  "kernelspec": {
   "display_name": "Python 2",
   "language": "python",
   "name": "python2"
  },
  "language_info": {
   "codemirror_mode": {
    "name": "ipython",
    "version": 2
   },
   "file_extension": ".py",
   "mimetype": "text/x-python",
   "name": "python",
   "nbconvert_exporter": "python",
   "pygments_lexer": "ipython2",
   "version": "2.7.12"
  }
 },
 "nbformat": 4,
 "nbformat_minor": 2
}
