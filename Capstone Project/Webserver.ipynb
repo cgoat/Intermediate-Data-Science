{
 "cells": [
  {
   "cell_type": "code",
   "execution_count": null,
   "metadata": {},
   "outputs": [
    {
     "name": "stdout",
     "output_type": "stream",
     "text": [
      "[2018-01-25 13:18:02 +0000] [6918] [INFO] Starting gunicorn 19.7.1\r\n",
      "[2018-01-25 13:18:02 +0000] [6918] [INFO] Listening at: http://0.0.0.0:8000 (6918)\r\n",
      "[2018-01-25 13:18:02 +0000] [6918] [INFO] Using worker: sync\r\n",
      "[2018-01-25 13:18:02 +0000] [6923] [INFO] Booting worker with pid: 6923\r\n"
     ]
    }
   ],
   "source": [
    "#Simple command to run the webserver.\n",
    "!gunicorn --bind 0.0.0.0:8000 epi:app "
   ]
  },
  {
   "cell_type": "code",
   "execution_count": null,
   "metadata": {
    "collapsed": true
   },
   "outputs": [],
   "source": []
  }
 ],
 "metadata": {
  "kernelspec": {
   "display_name": "Python 2",
   "language": "python",
   "name": "python2"
  },
  "language_info": {
   "codemirror_mode": {
    "name": "ipython",
    "version": 2
   },
   "file_extension": ".py",
   "mimetype": "text/x-python",
   "name": "python",
   "nbconvert_exporter": "python",
   "pygments_lexer": "ipython2",
   "version": "2.7.12"
  }
 },
 "nbformat": 4,
 "nbformat_minor": 2
}
